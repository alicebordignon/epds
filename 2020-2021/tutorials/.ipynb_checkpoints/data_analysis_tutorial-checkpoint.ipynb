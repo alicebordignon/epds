{
 "cells": [
  {
   "cell_type": "markdown",
   "metadata": {},
   "source": [
    "# Data analysis\n",
    "\n",
    "Table of Contents\n",
    " \n",
    " * Clustering: k-means algorithm\n",
    " * Outliers detection: boxplots\n",
    " * Association-rule: apriori algorithm\n",
    " \n",
    "## Clustering: k-means algorithm\n",
    "\n",
    "In this tutorial we will use the k-means algorithm to cluster collections in ARTchives by their subject artistic periods. Specifically, we want to understand whether artistic periods (characterised by their earliest and latest dates) offer relevant insights with respect to the dates of the collections (earliest - latest dates), or vice-versa.\n",
    "\n",
    "The k-means algorithm is used for exploratory purposes on data that are not categorised (i.e. we don't know yet what is the research question!), that means that the result of clustering must be interpreted and according to the characteristics of groupings the viewer decides how to label the groupings (if they make sense!).\n",
    "\n",
    "We start from the basics and we parse ARTchives data into a RDFLibe graph."
   ]
  },
  {
   "cell_type": "code",
   "execution_count": 5,
   "metadata": {},
   "outputs": [],
   "source": [
    "import rdflib\n",
    "from rdflib import Namespace , Literal , URIRef\n",
    "from rdflib.namespace import RDF , RDFS\n",
    "\n",
    "# bind the uncommon namespaces\n",
    "wd = Namespace(\"http://www.wikidata.org/entity/\") # remember that a prefix matches a URI until the last slash (or hashtag #)\n",
    "wdt = Namespace(\"http://www.wikidata.org/prop/direct/\")\n",
    "art = Namespace(\"https://w3id.org/artchives/\")\n",
    "\n",
    "# create an empty Graph\n",
    "g = rdflib.ConjunctiveGraph()\n",
    "\n",
    "# parse a local RDF file by specifying the format\n",
    "result = g.parse(\"../resources/artchives.nq\", format='nquads')"
   ]
  },
  {
   "cell_type": "markdown",
   "metadata": {},
   "source": [
    "Then we filter data to obtain a table where each row corresponds to a unique combination of `collection URI - collection earliest year - collection latest year - subject period URI - period earliest year - period latest year`. We use a SPARQL query on the graph."
   ]
  },
  {
   "cell_type": "code",
   "execution_count": 6,
   "metadata": {},
   "outputs": [],
   "source": [
    "query_coll_periods_dates = g.query(\"\"\"\n",
    "PREFIX wdt: <http://www.wikidata.org/prop/direct/>\n",
    "PREFIX art: <https://w3id.org/artchives/>\n",
    "SELECT DISTINCT ?coll ?coll_begin ?coll_end ?period ?period_begin ?period_end\n",
    "WHERE {\n",
    " ?coll art:hasSubjectPeriod ?period ;\n",
    "       wdt:P1319 ?coll_begin ; wdt:P1326 ?coll_end .\n",
    " ?period wdt:P580 ?period_begin ; wdt:P582 ?period_end .\n",
    "}\n",
    "\"\"\")"
   ]
  },
  {
   "cell_type": "markdown",
   "metadata": {},
   "source": [
    "We transform the results of the query in a csv file."
   ]
  },
  {
   "cell_type": "code",
   "execution_count": 7,
   "metadata": {},
   "outputs": [],
   "source": [
    "import csv\n",
    "with open('coll_periods_cluster.csv', mode='w') as my_file:\n",
    "    my_writer = csv.writer(my_file, delimiter=',', quotechar='\"', quoting=csv.QUOTE_ALL)\n",
    "    # write the column names\n",
    "    my_writer.writerow(['collection', 'collection_begin', 'collection_end', 'period', 'period_begin', 'period_end'])\n",
    "    \n",
    "    # access the rows of the query results\n",
    "    for coll, coll_begin, coll_end, period, period_begin, period_end in query_coll_periods_dates:\n",
    "        # write in the csv\n",
    "        my_writer.writerow([coll, coll_begin[:4], coll_end[:4], period, period_begin[:4], period_end[:4]])"
   ]
  },
  {
   "cell_type": "markdown",
   "metadata": {},
   "source": [
    "We parse the table (csv) into a pandas dataframe."
   ]
  },
  {
   "cell_type": "code",
   "execution_count": 8,
   "metadata": {},
   "outputs": [
    {
     "data": {
      "text/html": [
       "<div>\n",
       "<style scoped>\n",
       "    .dataframe tbody tr th:only-of-type {\n",
       "        vertical-align: middle;\n",
       "    }\n",
       "\n",
       "    .dataframe tbody tr th {\n",
       "        vertical-align: top;\n",
       "    }\n",
       "\n",
       "    .dataframe thead th {\n",
       "        text-align: right;\n",
       "    }\n",
       "</style>\n",
       "<table border=\"1\" class=\"dataframe\">\n",
       "  <thead>\n",
       "    <tr style=\"text-align: right;\">\n",
       "      <th></th>\n",
       "      <th>collection</th>\n",
       "      <th>collection_begin</th>\n",
       "      <th>collection_end</th>\n",
       "      <th>period</th>\n",
       "      <th>period_begin</th>\n",
       "      <th>period_end</th>\n",
       "    </tr>\n",
       "  </thead>\n",
       "  <tbody>\n",
       "    <tr>\n",
       "      <th>0</th>\n",
       "      <td>https://w3id.org/artchives/collectionnachlass-...</td>\n",
       "      <td>1925</td>\n",
       "      <td>1970</td>\n",
       "      <td>http://www.wikidata.org/entity/Q7018</td>\n",
       "      <td>1401</td>\n",
       "      <td>1500</td>\n",
       "    </tr>\n",
       "    <tr>\n",
       "      <th>1</th>\n",
       "      <td>https://w3id.org/artchives/collectionarchivio-...</td>\n",
       "      <td>1960</td>\n",
       "      <td>2018</td>\n",
       "      <td>http://www.wikidata.org/entity/Q7017</td>\n",
       "      <td>1501</td>\n",
       "      <td>1600</td>\n",
       "    </tr>\n",
       "    <tr>\n",
       "      <th>2</th>\n",
       "      <td>https://w3id.org/artchives/collectionfototeca-...</td>\n",
       "      <td>1965</td>\n",
       "      <td>2018</td>\n",
       "      <td>http://www.wikidata.org/entity/Q4692</td>\n",
       "      <td>1400</td>\n",
       "      <td>1650</td>\n",
       "    </tr>\n",
       "    <tr>\n",
       "      <th>3</th>\n",
       "      <td>https://w3id.org/artchives/collectionjulius-s-...</td>\n",
       "      <td>1918</td>\n",
       "      <td>1999</td>\n",
       "      <td>http://www.wikidata.org/entity/Q7016</td>\n",
       "      <td>1601</td>\n",
       "      <td>1700</td>\n",
       "    </tr>\n",
       "    <tr>\n",
       "      <th>4</th>\n",
       "      <td>https://w3id.org/artchives/collectionnachlass-...</td>\n",
       "      <td>1937</td>\n",
       "      <td>1949</td>\n",
       "      <td>http://www.wikidata.org/entity/Q37853</td>\n",
       "      <td>1590</td>\n",
       "      <td>1750</td>\n",
       "    </tr>\n",
       "  </tbody>\n",
       "</table>\n",
       "</div>"
      ],
      "text/plain": [
       "                                          collection  collection_begin  \\\n",
       "0  https://w3id.org/artchives/collectionnachlass-...              1925   \n",
       "1  https://w3id.org/artchives/collectionarchivio-...              1960   \n",
       "2  https://w3id.org/artchives/collectionfototeca-...              1965   \n",
       "3  https://w3id.org/artchives/collectionjulius-s-...              1918   \n",
       "4  https://w3id.org/artchives/collectionnachlass-...              1937   \n",
       "\n",
       "   collection_end                                 period  period_begin  \\\n",
       "0            1970   http://www.wikidata.org/entity/Q7018          1401   \n",
       "1            2018   http://www.wikidata.org/entity/Q7017          1501   \n",
       "2            2018   http://www.wikidata.org/entity/Q4692          1400   \n",
       "3            1999   http://www.wikidata.org/entity/Q7016          1601   \n",
       "4            1949  http://www.wikidata.org/entity/Q37853          1590   \n",
       "\n",
       "   period_end  \n",
       "0        1500  \n",
       "1        1600  \n",
       "2        1650  \n",
       "3        1700  \n",
       "4        1750  "
      ]
     },
     "execution_count": 8,
     "metadata": {},
     "output_type": "execute_result"
    }
   ],
   "source": [
    "import pandas as pd\n",
    "# parse the csv into a dataframe\n",
    "data = pd.read_csv(\"coll_periods_cluster.csv\")\n",
    "# print the first 5 rows\n",
    "data.head()"
   ]
  },
  {
   "cell_type": "markdown",
   "metadata": {},
   "source": [
    "To perform clustering we need only **numeric values**, therefore we prune from the dataframe the columns that include categorical data (the uris). We do this by *creating a copy of the dataframe* (i.e., we don't work on the original one).\n",
    "\n",
    "**NB** Data frames index the rows with an index number (the first left column), hence at the end of the clustering, we can match the two dataframes and identify which collection and which period has been categorized in a cluster."
   ]
  },
  {
   "cell_type": "code",
   "execution_count": 9,
   "metadata": {},
   "outputs": [
    {
     "data": {
      "text/html": [
       "<div>\n",
       "<style scoped>\n",
       "    .dataframe tbody tr th:only-of-type {\n",
       "        vertical-align: middle;\n",
       "    }\n",
       "\n",
       "    .dataframe tbody tr th {\n",
       "        vertical-align: top;\n",
       "    }\n",
       "\n",
       "    .dataframe thead th {\n",
       "        text-align: right;\n",
       "    }\n",
       "</style>\n",
       "<table border=\"1\" class=\"dataframe\">\n",
       "  <thead>\n",
       "    <tr style=\"text-align: right;\">\n",
       "      <th></th>\n",
       "      <th>collection_begin</th>\n",
       "      <th>collection_end</th>\n",
       "      <th>period_begin</th>\n",
       "      <th>period_end</th>\n",
       "    </tr>\n",
       "  </thead>\n",
       "  <tbody>\n",
       "    <tr>\n",
       "      <th>0</th>\n",
       "      <td>1925</td>\n",
       "      <td>1970</td>\n",
       "      <td>1401</td>\n",
       "      <td>1500</td>\n",
       "    </tr>\n",
       "    <tr>\n",
       "      <th>1</th>\n",
       "      <td>1960</td>\n",
       "      <td>2018</td>\n",
       "      <td>1501</td>\n",
       "      <td>1600</td>\n",
       "    </tr>\n",
       "    <tr>\n",
       "      <th>2</th>\n",
       "      <td>1965</td>\n",
       "      <td>2018</td>\n",
       "      <td>1400</td>\n",
       "      <td>1650</td>\n",
       "    </tr>\n",
       "    <tr>\n",
       "      <th>3</th>\n",
       "      <td>1918</td>\n",
       "      <td>1999</td>\n",
       "      <td>1601</td>\n",
       "      <td>1700</td>\n",
       "    </tr>\n",
       "    <tr>\n",
       "      <th>4</th>\n",
       "      <td>1937</td>\n",
       "      <td>1949</td>\n",
       "      <td>1590</td>\n",
       "      <td>1750</td>\n",
       "    </tr>\n",
       "  </tbody>\n",
       "</table>\n",
       "</div>"
      ],
      "text/plain": [
       "   collection_begin  collection_end  period_begin  period_end\n",
       "0              1925            1970          1401        1500\n",
       "1              1960            2018          1501        1600\n",
       "2              1965            2018          1400        1650\n",
       "3              1918            1999          1601        1700\n",
       "4              1937            1949          1590        1750"
      ]
     },
     "execution_count": 9,
     "metadata": {},
     "output_type": "execute_result"
    }
   ],
   "source": [
    "df = pd.DataFrame(data,columns=['collection_begin','collection_end','period_begin','period_end'])\n",
    "df.head()"
   ]
  },
  {
   "cell_type": "markdown",
   "metadata": {},
   "source": [
    "To perform clustering using the k-means algorithm, we use the class *KMeans* offered by the python machine learning library **sklearn**. To plot the clusters we use another library for data visualization called **matplotlib** (that is the basic block of seaborn).\n",
    "\n",
    "*KMeans* requires the user to choose the number of clusters to be created. Usually, you can try several attempts and see which one makes more sense (e.g. if clusters in the plot are not too sparse groupings, if the centroids of the clusters are somehow in the middle of the grouping).\n",
    "\n",
    "For instance, we try to form 4 clusters."
   ]
  },
  {
   "cell_type": "code",
   "execution_count": 10,
   "metadata": {},
   "outputs": [
    {
     "name": "stdout",
     "output_type": "stream",
     "text": [
      "[[1925.79411765 1987.5        1427.02941176 1592.64705882]\n",
      " [1930.4        1980.2         476.         1500.        ]\n",
      " [1964.125      2006.25       1773.5        1858.875     ]\n",
      " [1941.70588235 1993.52941176 1595.17647059 1726.47058824]]\n"
     ]
    },
    {
     "data": {
      "image/png": "[encoded data removed]",
      "text/plain": [
       "<Figure size 432x288 with 1 Axes>"
      ]
     },
     "metadata": {
      "needs_background": "light"
     },
     "output_type": "display_data"
    }
   ],
   "source": [
    "import matplotlib.pyplot as plt\n",
    "from sklearn.cluster import KMeans\n",
    "\n",
    "kmeans_attempt = KMeans(n_clusters=4).fit(df)\n",
    "centroids = kmeans_attempt.cluster_centers_\n",
    "print(centroids)\n",
    "\n",
    "plt.scatter(df['collection_begin'], df['period_begin'],  c= kmeans_attempt.labels_.astype(int), s=50, alpha=0.5)\n",
    "plt.scatter(centroids[:, 0], centroids[:, 1], c='red', s=50)\n",
    "plt.show()"
   ]
  },
  {
   "cell_type": "markdown",
   "metadata": {},
   "source": [
    "The red spots are the centers of the clusters, which do not really match any of the clusters.\n",
    "\n",
    "To find the optimal number of clusters, we can use the **elbow method**. The elbow method runs k-means clustering on the dataset for a range of values for k (say from 1 to 10) and then for each value of k computes an average score for all clusters, so as to find the optimal one."
   ]
  },
  {
   "cell_type": "code",
   "execution_count": 11,
   "metadata": {},
   "outputs": [
    {
     "data": {
      "image/png": "[encoded data removed]",
      "text/plain": [
       "<Figure size 432x288 with 1 Axes>"
      ]
     },
     "metadata": {
      "needs_background": "light"
     },
     "output_type": "display_data"
    }
   ],
   "source": [
    "sum_of_squared_distances = []\n",
    "K = range(1,15)\n",
    "for k in K:\n",
    "    km = KMeans(n_clusters=k)\n",
    "    km = km.fit(df)\n",
    "    sum_of_squared_distances.append(km.inertia_)\n",
    "\n",
    "plt.plot(K, sum_of_squared_distances, 'bx-')\n",
    "plt.xlabel('k')\n",
    "plt.ylabel('Sum_of_squared_distances')\n",
    "plt.title('Elbow Method For Optimal k')\n",
    "plt.show()    "
   ]
  },
  {
   "cell_type": "markdown",
   "metadata": {},
   "source": [
    "When these metrics for each model are plotted, it is possible to visually determine the best value for k. If the line chart looks like an arm, then the “elbow” (the point of inflection on the curve) is the best value of k. The “arm” can be either up or down, but if there is a strong inflection point, it is a good indication that the underlying model fits best at that point. \n",
    "\n",
    "In our case the best value is 3 (read the x axis and get the point where the inflection is stronger). We can now recompute the clusters suggesting this number."
   ]
  },
  {
   "cell_type": "code",
   "execution_count": 12,
   "metadata": {},
   "outputs": [
    {
     "name": "stdout",
     "output_type": "stream",
     "text": [
      "[[1925.79411765 1987.5        1427.02941176 1592.64705882]\n",
      " [1930.4        1980.2         476.         1500.        ]\n",
      " [1948.88       1997.6        1652.24       1768.84      ]]\n"
     ]
    },
    {
     "data": {
      "image/png": "[encoded data removed]",
      "text/plain": [
       "<Figure size 432x288 with 1 Axes>"
      ]
     },
     "metadata": {
      "needs_background": "light"
     },
     "output_type": "display_data"
    }
   ],
   "source": [
    "kmeans = KMeans(n_clusters=3).fit(df)\n",
    "centroids = kmeans.cluster_centers_\n",
    "print(centroids)\n",
    "\n",
    "plt.scatter(df['collection_begin'], df['period_begin'],  c= kmeans.labels_.astype(float), s=50, alpha=0.5)\n",
    "plt.scatter(centroids[:, 0], centroids[:, 1], c='red', s=50)\n",
    "plt.show()"
   ]
  },
  {
   "cell_type": "markdown",
   "metadata": {},
   "source": [
    "Unfortunately, the result is not much different. This means two things:\n",
    "\n",
    " * the four variables of the dataset are too independent and no cluster makes sense\n",
    " * the four variables maybe simplified or changed so as to understand if there is another reason for clustering\n",
    " \n",
    "We try to simplify our table and, instead of four variables (columns), we use only two variables. For instance, we calculate the means (average) of earliest and latest dates (for both of the collection dates and the periods dates)."
   ]
  },
  {
   "cell_type": "code",
   "execution_count": 14,
   "metadata": {},
   "outputs": [
    {
     "data": {
      "text/html": [
       "<div>\n",
       "<style scoped>\n",
       "    .dataframe tbody tr th:only-of-type {\n",
       "        vertical-align: middle;\n",
       "    }\n",
       "\n",
       "    .dataframe tbody tr th {\n",
       "        vertical-align: top;\n",
       "    }\n",
       "\n",
       "    .dataframe thead th {\n",
       "        text-align: right;\n",
       "    }\n",
       "</style>\n",
       "<table border=\"1\" class=\"dataframe\">\n",
       "  <thead>\n",
       "    <tr style=\"text-align: right;\">\n",
       "      <th></th>\n",
       "      <th>collection_begin</th>\n",
       "      <th>collection_end</th>\n",
       "      <th>period_begin</th>\n",
       "      <th>period_end</th>\n",
       "      <th>collection_mean</th>\n",
       "      <th>period_mean</th>\n",
       "    </tr>\n",
       "  </thead>\n",
       "  <tbody>\n",
       "    <tr>\n",
       "      <th>0</th>\n",
       "      <td>1925</td>\n",
       "      <td>1970</td>\n",
       "      <td>1401</td>\n",
       "      <td>1500</td>\n",
       "      <td>1947.5</td>\n",
       "      <td>1450.5</td>\n",
       "    </tr>\n",
       "    <tr>\n",
       "      <th>1</th>\n",
       "      <td>1960</td>\n",
       "      <td>2018</td>\n",
       "      <td>1501</td>\n",
       "      <td>1600</td>\n",
       "      <td>1989.0</td>\n",
       "      <td>1550.5</td>\n",
       "    </tr>\n",
       "    <tr>\n",
       "      <th>2</th>\n",
       "      <td>1965</td>\n",
       "      <td>2018</td>\n",
       "      <td>1400</td>\n",
       "      <td>1650</td>\n",
       "      <td>1991.5</td>\n",
       "      <td>1525.0</td>\n",
       "    </tr>\n",
       "    <tr>\n",
       "      <th>3</th>\n",
       "      <td>1918</td>\n",
       "      <td>1999</td>\n",
       "      <td>1601</td>\n",
       "      <td>1700</td>\n",
       "      <td>1958.5</td>\n",
       "      <td>1650.5</td>\n",
       "    </tr>\n",
       "    <tr>\n",
       "      <th>4</th>\n",
       "      <td>1937</td>\n",
       "      <td>1949</td>\n",
       "      <td>1590</td>\n",
       "      <td>1750</td>\n",
       "      <td>1943.0</td>\n",
       "      <td>1670.0</td>\n",
       "    </tr>\n",
       "  </tbody>\n",
       "</table>\n",
       "</div>"
      ],
      "text/plain": [
       "   collection_begin  collection_end  period_begin  period_end  \\\n",
       "0              1925            1970          1401        1500   \n",
       "1              1960            2018          1501        1600   \n",
       "2              1965            2018          1400        1650   \n",
       "3              1918            1999          1601        1700   \n",
       "4              1937            1949          1590        1750   \n",
       "\n",
       "   collection_mean  period_mean  \n",
       "0           1947.5       1450.5  \n",
       "1           1989.0       1550.5  \n",
       "2           1991.5       1525.0  \n",
       "3           1958.5       1650.5  \n",
       "4           1943.0       1670.0  "
      ]
     },
     "execution_count": 14,
     "metadata": {},
     "output_type": "execute_result"
    }
   ],
   "source": [
    "# we use a lambda function to add to the dataframe two columns with the means\n",
    "df['collection_mean'] = df.apply(lambda row: (row.collection_begin + row.collection_end)/2, axis=1) # axis=1 stands for the index of columns \n",
    "df['period_mean'] = df.apply(lambda row: (row.period_begin + row.period_end)/2, axis=1)\n",
    "df.head()"
   ]
  },
  {
   "cell_type": "markdown",
   "metadata": {},
   "source": [
    "We extract the two new columns and we copy them in a new dataframe."
   ]
  },
  {
   "cell_type": "code",
   "execution_count": 15,
   "metadata": {
    "scrolled": true
   },
   "outputs": [
    {
     "data": {
      "text/html": [
       "<div>\n",
       "<style scoped>\n",
       "    .dataframe tbody tr th:only-of-type {\n",
       "        vertical-align: middle;\n",
       "    }\n",
       "\n",
       "    .dataframe tbody tr th {\n",
       "        vertical-align: top;\n",
       "    }\n",
       "\n",
       "    .dataframe thead th {\n",
       "        text-align: right;\n",
       "    }\n",
       "</style>\n",
       "<table border=\"1\" class=\"dataframe\">\n",
       "  <thead>\n",
       "    <tr style=\"text-align: right;\">\n",
       "      <th></th>\n",
       "      <th>collection_mean</th>\n",
       "      <th>period_mean</th>\n",
       "    </tr>\n",
       "  </thead>\n",
       "  <tbody>\n",
       "    <tr>\n",
       "      <th>0</th>\n",
       "      <td>1947.5</td>\n",
       "      <td>1450.5</td>\n",
       "    </tr>\n",
       "    <tr>\n",
       "      <th>1</th>\n",
       "      <td>1989.0</td>\n",
       "      <td>1550.5</td>\n",
       "    </tr>\n",
       "    <tr>\n",
       "      <th>2</th>\n",
       "      <td>1991.5</td>\n",
       "      <td>1525.0</td>\n",
       "    </tr>\n",
       "    <tr>\n",
       "      <th>3</th>\n",
       "      <td>1958.5</td>\n",
       "      <td>1650.5</td>\n",
       "    </tr>\n",
       "    <tr>\n",
       "      <th>4</th>\n",
       "      <td>1943.0</td>\n",
       "      <td>1670.0</td>\n",
       "    </tr>\n",
       "  </tbody>\n",
       "</table>\n",
       "</div>"
      ],
      "text/plain": [
       "   collection_mean  period_mean\n",
       "0           1947.5       1450.5\n",
       "1           1989.0       1550.5\n",
       "2           1991.5       1525.0\n",
       "3           1958.5       1650.5\n",
       "4           1943.0       1670.0"
      ]
     },
     "execution_count": 15,
     "metadata": {},
     "output_type": "execute_result"
    }
   ],
   "source": [
    "new_df = df[['collection_mean','period_mean']]\n",
    "new_df.head()"
   ]
  },
  {
   "cell_type": "markdown",
   "metadata": {},
   "source": [
    "Now we repeat prior steps. We calculate the optimal number of clusters with the elbox method."
   ]
  },
  {
   "cell_type": "code",
   "execution_count": 16,
   "metadata": {},
   "outputs": [
    {
     "data": {
      "image/png": "[encoded data removed]",
      "text/plain": [
       "<Figure size 432x288 with 1 Axes>"
      ]
     },
     "metadata": {
      "needs_background": "light"
     },
     "output_type": "display_data"
    }
   ],
   "source": [
    "sum_of_squared_distances = []\n",
    "K = range(1,15)\n",
    "for k in K:\n",
    "    km = KMeans(n_clusters=k)\n",
    "    km = km.fit(new_df) # on the new dataframe\n",
    "    sum_of_squared_distances.append(km.inertia_)\n",
    "\n",
    "plt.plot(K, sum_of_squared_distances, 'bx-')\n",
    "plt.xlabel('k')\n",
    "plt.ylabel('Sum_of_squared_distances')\n",
    "plt.title('Elbow Method For Optimal k')\n",
    "plt.show() "
   ]
  },
  {
   "cell_type": "markdown",
   "metadata": {},
   "source": [
    "The optimal number of clusters seems to be 3. We apply the k-means algorithm to find the clusters and plot them in a visualization."
   ]
  },
  {
   "cell_type": "code",
   "execution_count": 17,
   "metadata": {},
   "outputs": [
    {
     "name": "stdout",
     "output_type": "stream",
     "text": [
      "[[1956.64705882 1509.83823529]\n",
      " [1955.3         988.        ]\n",
      " [1973.24       1710.54      ]]\n"
     ]
    },
    {
     "data": {
      "image/png": "[encoded data removed]",
      "text/plain": [
       "<Figure size 432x288 with 1 Axes>"
      ]
     },
     "metadata": {
      "needs_background": "light"
     },
     "output_type": "display_data"
    }
   ],
   "source": [
    "kmeans = KMeans(n_clusters=3).fit(new_df)\n",
    "centroids = kmeans.cluster_centers_\n",
    "print(centroids)\n",
    "\n",
    "plt.scatter(df['collection_mean'], df['period_mean'],  c= kmeans.labels_.astype(float), s=50, alpha=0.5)\n",
    "plt.scatter(centroids[:, 0], centroids[:, 1], c='red', s=50)\n",
    "plt.show()"
   ]
  },
  {
   "cell_type": "markdown",
   "metadata": {},
   "source": [
    "The result now is much better. Still, I'm not completely happy, because some clusters seem to be too sparse. I'll try with four."
   ]
  },
  {
   "cell_type": "code",
   "execution_count": 18,
   "metadata": {},
   "outputs": [
    {
     "name": "stdout",
     "output_type": "stream",
     "text": [
      "[[1956.64705882 1509.83823529]\n",
      " [1955.3         988.        ]\n",
      " [1985.1875     1816.1875    ]\n",
      " [1967.61764706 1660.82352941]]\n"
     ]
    },
    {
     "data": {
      "image/png": "[encoded data removed]",
      "text/plain": [
       "<Figure size 432x288 with 1 Axes>"
      ]
     },
     "metadata": {
      "needs_background": "light"
     },
     "output_type": "display_data"
    }
   ],
   "source": [
    "kmeans = KMeans(n_clusters=4).fit(new_df)\n",
    "centroids = kmeans.cluster_centers_\n",
    "print(centroids)\n",
    "\n",
    "plt.scatter(df['collection_mean'], df['period_mean'],  c= kmeans.labels_.astype(float), s=50, alpha=0.5)\n",
    "plt.scatter(centroids[:, 0], centroids[:, 1], c='red', s=50)\n",
    "plt.show()"
   ]
  },
  {
   "cell_type": "markdown",
   "metadata": {},
   "source": [
    "Now I can see a pattern in the result. We get four clusters that are quite neat with respect to the artistic periods (y axis), and slightly more sparse with respect to the collection years (x axis). \n",
    "\n",
    "However, we can already see some **patterns**. The bottom cluster includes collections created between '40s and '70s addressing artistic periods that have as an average year ~1000, that is Middle Age and antiquities.\n",
    "The second cluster from the bottom includes collections created in a broad range, but with a center around the '50s-'60s, addressing artistic periods belonging to 15-16th centuries. Likewise, the third cluster from the bottom addresses the 17th century, and the top cluster addresses 18-20th centuries (showing us how this research topic is relatively more recent than others).\n",
    "\n",
    "**NB** Be aware that in this visualization clusters include overlapping collections (i.e. a collection may belong to more clusters since it can address different artistic periods).\n",
    "\n",
    "Now that we got this information we add it to our dataframe to store it and potentially reuse it in other contexts (e.g. for recommending collections to users on the basis of this classification). We create yet another dataframe and we use a built-in method of kmeans to extract the labels of the four clusters. We copy them into a new column, along with the names of the collections that we extract from the original dataframe."
   ]
  },
  {
   "cell_type": "code",
   "execution_count": 30,
   "metadata": {},
   "outputs": [
    {
     "data": {
      "text/html": [
       "<div>\n",
       "<style scoped>\n",
       "    .dataframe tbody tr th:only-of-type {\n",
       "        vertical-align: middle;\n",
       "    }\n",
       "\n",
       "    .dataframe tbody tr th {\n",
       "        vertical-align: top;\n",
       "    }\n",
       "\n",
       "    .dataframe thead th {\n",
       "        text-align: right;\n",
       "    }\n",
       "</style>\n",
       "<table border=\"1\" class=\"dataframe\">\n",
       "  <thead>\n",
       "    <tr style=\"text-align: right;\">\n",
       "      <th></th>\n",
       "      <th>collection_mean</th>\n",
       "      <th>period_mean</th>\n",
       "      <th>cluster</th>\n",
       "      <th>collection</th>\n",
       "    </tr>\n",
       "  </thead>\n",
       "  <tbody>\n",
       "    <tr>\n",
       "      <th>0</th>\n",
       "      <td>1947.5</td>\n",
       "      <td>1450.5</td>\n",
       "      <td>17th century</td>\n",
       "      <td>https://w3id.org/artchives/collectionnachlass-...</td>\n",
       "    </tr>\n",
       "    <tr>\n",
       "      <th>1</th>\n",
       "      <td>1989.0</td>\n",
       "      <td>1550.5</td>\n",
       "      <td>17th century</td>\n",
       "      <td>https://w3id.org/artchives/collectionarchivio-...</td>\n",
       "    </tr>\n",
       "    <tr>\n",
       "      <th>2</th>\n",
       "      <td>1991.5</td>\n",
       "      <td>1525.0</td>\n",
       "      <td>17th century</td>\n",
       "      <td>https://w3id.org/artchives/collectionfototeca-...</td>\n",
       "    </tr>\n",
       "    <tr>\n",
       "      <th>3</th>\n",
       "      <td>1958.5</td>\n",
       "      <td>1650.5</td>\n",
       "      <td>18-20th centuries</td>\n",
       "      <td>https://w3id.org/artchives/collectionjulius-s-...</td>\n",
       "    </tr>\n",
       "    <tr>\n",
       "      <th>4</th>\n",
       "      <td>1943.0</td>\n",
       "      <td>1670.0</td>\n",
       "      <td>18-20th centuries</td>\n",
       "      <td>https://w3id.org/artchives/collectionnachlass-...</td>\n",
       "    </tr>\n",
       "  </tbody>\n",
       "</table>\n",
       "</div>"
      ],
      "text/plain": [
       "   collection_mean  period_mean            cluster  \\\n",
       "0           1947.5       1450.5       17th century   \n",
       "1           1989.0       1550.5       17th century   \n",
       "2           1991.5       1525.0       17th century   \n",
       "3           1958.5       1650.5  18-20th centuries   \n",
       "4           1943.0       1670.0  18-20th centuries   \n",
       "\n",
       "                                          collection  \n",
       "0  https://w3id.org/artchives/collectionnachlass-...  \n",
       "1  https://w3id.org/artchives/collectionarchivio-...  \n",
       "2  https://w3id.org/artchives/collectionfototeca-...  \n",
       "3  https://w3id.org/artchives/collectionjulius-s-...  \n",
       "4  https://w3id.org/artchives/collectionnachlass-...  "
      ]
     },
     "execution_count": 30,
     "metadata": {},
     "output_type": "execute_result"
    }
   ],
   "source": [
    "# add the cluster name in the df\n",
    "new_df2 = new_df.copy()\n",
    "new_df2[\"cluster\"] = kmeans.labels_\n",
    "# give the clusters a more meaningful name\n",
    "new_df2[\"cluster\"].replace({0:'17th century', 1: 'Middle age',2: '15-16th centuries',3: '18-20th centuries'}, inplace=True)\n",
    "# which collections? \n",
    "new_df2[\"collection\"] = data[\"collection\"]\n",
    "\n",
    "# Watch out! every time you rerun the clustering algorithm the names of clusters change! \n",
    "# Hence the labelling changes too (so if you see a mistake in the labelling it's because of that!)\n",
    "new_df2.head()"
   ]
  },
  {
   "cell_type": "markdown",
   "metadata": {},
   "source": [
    "Now we plot again the clusters by using a seaborn function and get more insights."
   ]
  },
  {
   "cell_type": "code",
   "execution_count": 31,
   "metadata": {},
   "outputs": [
    {
     "data": {
      "image/png": "[encoded data removed]",
      "text/plain": [
       "<Figure size 485.125x360 with 1 Axes>"
      ]
     },
     "metadata": {
      "needs_background": "light"
     },
     "output_type": "display_data"
    }
   ],
   "source": [
    "import seaborn as sns\n",
    "facet = sns.lmplot(data=new_df2, x='collection_mean', y='period_mean', hue='cluster', \n",
    "                   fit_reg=False, legend=True, legend_out=True)"
   ]
  },
  {
   "cell_type": "markdown",
   "metadata": {},
   "source": [
    "Seaborn allows us to fit **regression models** in the visualization. Regression is a way to model the relationship between a dependent variable and one or more independent variables. The case of one independent variable is called **simple linear regression**. To do that, we set the parameter `fit_reg` of our function `lmplot` to `True`."
   ]
  },
  {
   "cell_type": "code",
   "execution_count": 32,
   "metadata": {},
   "outputs": [
    {
     "data": {
      "image/png": "[encoded data removed]",
      "text/plain": [
       "<Figure size 485.125x360 with 1 Axes>"
      ]
     },
     "metadata": {
      "needs_background": "light"
     },
     "output_type": "display_data"
    }
   ],
   "source": [
    "import seaborn as sns\n",
    "facet = sns.lmplot(data=new_df2, x='collection_mean', y='period_mean', hue='cluster', \n",
    "                   fit_reg=True, legend=True, legend_out=True)"
   ]
  },
  {
   "cell_type": "markdown",
   "metadata": {},
   "source": [
    "In our case, the linear regression can be useful to **predict** future topics of interest. For instance, look at the top cluster. It seems that in studies about 18-20th centuries there is a trend in rediscoverying past periods, that is: while the years of the collections on the x axis increase, and the number of collections increase, the years characterising the artistic periods decrease.\n",
    "\n",
    "While we had a look on specific trends in clusters, we may want to have a general overview of future topics (periods) of interest by looking at the regression on the whole dataset. We use the `regplot` and `jointplot` functions and we see what happens."
   ]
  },
  {
   "cell_type": "code",
   "execution_count": 103,
   "metadata": {},
   "outputs": [
    {
     "data": {
      "image/png": "[encoded data removed]",
      "text/plain": [
       "<Figure size 432x288 with 1 Axes>"
      ]
     },
     "metadata": {
      "needs_background": "light"
     },
     "output_type": "display_data"
    }
   ],
   "source": [
    "sns.regplot(x=\"collection_mean\", y=\"period_mean\", data=new_df2);"
   ]
  },
  {
   "cell_type": "code",
   "execution_count": 33,
   "metadata": {},
   "outputs": [
    {
     "data": {
      "image/png": "[encoded data removed]",
      "text/plain": [
       "<Figure size 432x432 with 3 Axes>"
      ]
     },
     "metadata": {
      "needs_background": "light"
     },
     "output_type": "display_data"
    }
   ],
   "source": [
    "sns.jointplot(x=\"collection_mean\", y=\"period_mean\", data=new_df2, kind=\"reg\"); # to see the distribution along with the regression"
   ]
  },
  {
   "cell_type": "markdown",
   "metadata": {},
   "source": [
    "It seems the trend is quite stable with a slight inclination to dismiss studies on the 15th century and move towards 16th century.\n",
    "\n",
    "### How is this interesting to anybody?\n",
    "\n",
    "As we said, visualization is meant to support decision-making processes. But of whom? For instance, thanks to the renewed interest in art from the 18th century:\n",
    "\n",
    " * a historian may assume that in the near future there might be more fundings on projects addressing artistic periods falling in that timespan, and may try to apply for a grant on this topic\n",
    " * an art dealer may want to rise the price of artefacts that were created in that timespan\n",
    " * auction firms may want sell out more pieces from this period to collectionists\n",
    " * cataloguers may understand that other institutes are working on such topics, by collecting materials from that period, and they may want to do the same. \n",
    " * cultural institutions (e.g. museums) may decide to create an exhibition to engage with experts and citizens on these *trendy* topics\n",
    " \n",
    "No need to say, that this visualisation is based on a very few data, so currently **it is not very reliable**. But it's a start."
   ]
  },
  {
   "cell_type": "markdown",
   "metadata": {},
   "source": [
    "## Outliers detection: boxplots\n",
    "\n",
    "To better understand how the linear regression (or any other model) fits the case study, we can have a look at the outliers in the datasets. Outliers are those data points that do not fit in the distribution. \n",
    "We use a **box plot** to explore our data and show the variance between quartiles (the two rectangular shapes inside the larger shape), where is the middle value of the dataset (the horizontal line inside the rectangular shape), the lowest and larger data points (the top and bottom horizontal lines) and the outliers (the data points that are beyond the whiskers). \n",
    "\n",
    "We use a function of seaborn called `boxplot` to understand the distribution of (average) years that we have in our datasets."
   ]
  },
  {
   "cell_type": "code",
   "execution_count": 34,
   "metadata": {},
   "outputs": [
    {
     "data": {
      "image/png": "[encoded data removed]",
      "text/plain": [
       "<Figure size 432x288 with 1 Axes>"
      ]
     },
     "metadata": {
      "needs_background": "light"
     },
     "output_type": "display_data"
    }
   ],
   "source": [
    "# use Boxplots\n",
    "ax = sns.boxplot(data=new_df2)"
   ]
  },
  {
   "cell_type": "markdown",
   "metadata": {},
   "source": [
    "We can get a better detail by using a **swarm plot**, which resembles the shape of the boxplot, but it gives more insights on the actual number of data points that are outliers."
   ]
  },
  {
   "cell_type": "code",
   "execution_count": 35,
   "metadata": {},
   "outputs": [
    {
     "data": {
      "image/png": "[encoded data removed]",
      "text/plain": [
       "<Figure size 432x288 with 1 Axes>"
      ]
     },
     "metadata": {
      "needs_background": "light"
     },
     "output_type": "display_data"
    }
   ],
   "source": [
    "ax = sns.swarmplot(data=new_df2, color=\".25\")"
   ]
  },
  {
   "cell_type": "markdown",
   "metadata": {},
   "source": [
    "We can then retrieve the values of the outliers. For instance, to see the outliers of artistic periods we do as follows:"
   ]
  },
  {
   "cell_type": "code",
   "execution_count": 107,
   "metadata": {},
   "outputs": [
    {
     "name": "stdout",
     "output_type": "stream",
     "text": [
      "[988.0, 988.0, 988.0, 988.0, 988.0, 1969.0]\n"
     ]
    }
   ],
   "source": [
    "from matplotlib.cbook import boxplot_stats\n",
    "outliers = [y for stat in boxplot_stats(df['period_mean']) for y in stat['fliers']]\n",
    "print(outliers)"
   ]
  },
  {
   "cell_type": "markdown",
   "metadata": {},
   "source": [
    "We see that the outliers of ARTchives collections are artistic periods whose middle year falls around 988 (i.e. Middle age) and 1969 (i.e. Cold War). \n",
    "\n",
    "### How does this help me?\n",
    "\n",
    "Outliers may hamper results of analysis. You may want to remove those from your data so that the analysis focuses on data that are more consistent. \n",
    "\n",
    "Or vice-versa, you may want to understand why these data points are outliers (is nobody interested in these topics?), and may suggest cataloguers what is not covered in the current ARTchives catalogue. You may look in external other bigger datasets and find that there are collections relevant to those periods that can be included in ARTchives.\n"
   ]
  },
  {
   "cell_type": "markdown",
   "metadata": {},
   "source": [
    "## Association-rule mining: apriori algorithm\n",
    "\n",
    "In this tutorial we use the apriori algorithm to understand what is the likelihood that two or more artistic periods are studied together.\n",
    "\n",
    "To work on co-occurrence of periods as subject of collections, we need to create a bespoke dataset that will fit the requirements of a function for computing the association rules. In particular, we need a list of lists, wherein each list includes to all periods addressed by *one collection*. Be aware that the lists will not have the same length.\n",
    "\n",
    "This time, to create our list of lists, we use RDFLib methods and we iterate over triples."
   ]
  },
  {
   "cell_type": "code",
   "execution_count": 37,
   "metadata": {},
   "outputs": [
    {
     "name": "stdout",
     "output_type": "stream",
     "text": [
      "[['Renaissance', 'early Christian art and architecture', 'Byzantine art', 'Baroque'], ['15th century', '18th century', '17th century', 'neoclassicism', 'Renaissance', 'Baroque', '16th century'], ['Renaissance', 'Middle Ages'], ['15th century', '17th century', '16th century', 'Renaissance', 'Baroque', 'mannerism'], ['Baroque', 'mannerism'], ['Cold War'], ['15th century', '16th century', '14th century', 'Renaissance'], ['17th century', '16th century', 'Baroque', 'Renaissance'], ['Middle Ages'], ['15th century', 'Renaissance', '17th century', 'Baroque', '16th century', 'mannerism'], ['Baroque', 'mannerism', '16th century', 'Middle Ages'], ['Renaissance'], ['18th century', 'Baroque', '17th century'], ['Renaissance'], ['17th century', 'Renaissance', 'neoclassicism', '16th century', '19th century', '15th century', 'Romanticism', '18th century'], ['mannerism', 'Middle Ages', '15th century', '16th century', '17th century', 'Renaissance', 'Baroque'], ['early Christian art and architecture', 'Middle Ages', 'Byzantine art'], ['15th century', 'Renaissance'], ['16th century', '17th century'], ['15th century', '16th century'], ['Renaissance'], ['Renaissance'], [], ['Renaissance', 'modern art'], []]\n"
     ]
    }
   ],
   "source": [
    "colls_and_periods = []\n",
    "for coll,isA,coll_class in g.triples(( None, RDF.type , wd.Q9388534)): # get all the collections\n",
    "    coll_list = [] # create a list for the collection\n",
    "    for this_coll, hasSubj, period in g.triples(( coll, art.hasSubjectPeriod, None)): # get all the periods for that collection\n",
    "        for this_period, hasLabel, period_label in g.triples((period , RDFS.label, None )): # get the labels of the periods\n",
    "            period_label = str(period_label).strip() # get only the last label\n",
    "        coll_list.append(period_label)\n",
    "    colls_and_periods.append(coll_list)\n",
    "    \n",
    "print(colls_and_periods)"
   ]
  },
  {
   "cell_type": "markdown",
   "metadata": {},
   "source": [
    "Now that we have our list of lists we use methods from a library called **mlxtend** to compute the frequent itemsets (i.e. the frequent co-occurring periods). The **apriori** algorithm is used and returns a table with two columns, namely:\n",
    " \n",
    " * itemsets, the co-occurring items (or independent items)\n",
    " * their support, normalised between 0 and 1, indicating the frequency of the co-occurrence in the dataset. "
   ]
  },
  {
   "cell_type": "code",
   "execution_count": 38,
   "metadata": {},
   "outputs": [
    {
     "data": {
      "text/html": [
       "<div>\n",
       "<style scoped>\n",
       "    .dataframe tbody tr th:only-of-type {\n",
       "        vertical-align: middle;\n",
       "    }\n",
       "\n",
       "    .dataframe tbody tr th {\n",
       "        vertical-align: top;\n",
       "    }\n",
       "\n",
       "    .dataframe thead th {\n",
       "        text-align: right;\n",
       "    }\n",
       "</style>\n",
       "<table border=\"1\" class=\"dataframe\">\n",
       "  <thead>\n",
       "    <tr style=\"text-align: right;\">\n",
       "      <th></th>\n",
       "      <th>support</th>\n",
       "      <th>itemsets</th>\n",
       "    </tr>\n",
       "  </thead>\n",
       "  <tbody>\n",
       "    <tr>\n",
       "      <th>0</th>\n",
       "      <td>0.32</td>\n",
       "      <td>(15th century)</td>\n",
       "    </tr>\n",
       "    <tr>\n",
       "      <th>1</th>\n",
       "      <td>0.40</td>\n",
       "      <td>(16th century)</td>\n",
       "    </tr>\n",
       "    <tr>\n",
       "      <th>2</th>\n",
       "      <td>0.32</td>\n",
       "      <td>(17th century)</td>\n",
       "    </tr>\n",
       "    <tr>\n",
       "      <th>3</th>\n",
       "      <td>0.36</td>\n",
       "      <td>(Baroque)</td>\n",
       "    </tr>\n",
       "    <tr>\n",
       "      <th>4</th>\n",
       "      <td>0.20</td>\n",
       "      <td>(Middle Ages)</td>\n",
       "    </tr>\n",
       "    <tr>\n",
       "      <th>5</th>\n",
       "      <td>0.60</td>\n",
       "      <td>(Renaissance)</td>\n",
       "    </tr>\n",
       "    <tr>\n",
       "      <th>6</th>\n",
       "      <td>0.20</td>\n",
       "      <td>(mannerism)</td>\n",
       "    </tr>\n",
       "    <tr>\n",
       "      <th>7</th>\n",
       "      <td>0.28</td>\n",
       "      <td>(16th century, 15th century)</td>\n",
       "    </tr>\n",
       "    <tr>\n",
       "      <th>8</th>\n",
       "      <td>0.20</td>\n",
       "      <td>(15th century, 17th century)</td>\n",
       "    </tr>\n",
       "    <tr>\n",
       "      <th>9</th>\n",
       "      <td>0.28</td>\n",
       "      <td>(Renaissance, 15th century)</td>\n",
       "    </tr>\n",
       "    <tr>\n",
       "      <th>10</th>\n",
       "      <td>0.28</td>\n",
       "      <td>(16th century, 17th century)</td>\n",
       "    </tr>\n",
       "    <tr>\n",
       "      <th>11</th>\n",
       "      <td>0.24</td>\n",
       "      <td>(Baroque, 16th century)</td>\n",
       "    </tr>\n",
       "    <tr>\n",
       "      <th>12</th>\n",
       "      <td>0.28</td>\n",
       "      <td>(Renaissance, 16th century)</td>\n",
       "    </tr>\n",
       "    <tr>\n",
       "      <th>13</th>\n",
       "      <td>0.24</td>\n",
       "      <td>(Baroque, 17th century)</td>\n",
       "    </tr>\n",
       "    <tr>\n",
       "      <th>14</th>\n",
       "      <td>0.24</td>\n",
       "      <td>(Renaissance, 17th century)</td>\n",
       "    </tr>\n",
       "    <tr>\n",
       "      <th>15</th>\n",
       "      <td>0.24</td>\n",
       "      <td>(Baroque, Renaissance)</td>\n",
       "    </tr>\n",
       "    <tr>\n",
       "      <th>16</th>\n",
       "      <td>0.20</td>\n",
       "      <td>(Baroque, mannerism)</td>\n",
       "    </tr>\n",
       "    <tr>\n",
       "      <th>17</th>\n",
       "      <td>0.20</td>\n",
       "      <td>(16th century, 15th century, 17th century)</td>\n",
       "    </tr>\n",
       "    <tr>\n",
       "      <th>18</th>\n",
       "      <td>0.24</td>\n",
       "      <td>(Renaissance, 16th century, 15th century)</td>\n",
       "    </tr>\n",
       "    <tr>\n",
       "      <th>19</th>\n",
       "      <td>0.20</td>\n",
       "      <td>(Renaissance, 15th century, 17th century)</td>\n",
       "    </tr>\n",
       "    <tr>\n",
       "      <th>20</th>\n",
       "      <td>0.20</td>\n",
       "      <td>(Baroque, 16th century, 17th century)</td>\n",
       "    </tr>\n",
       "    <tr>\n",
       "      <th>21</th>\n",
       "      <td>0.24</td>\n",
       "      <td>(Renaissance, 16th century, 17th century)</td>\n",
       "    </tr>\n",
       "    <tr>\n",
       "      <th>22</th>\n",
       "      <td>0.20</td>\n",
       "      <td>(Baroque, Renaissance, 16th century)</td>\n",
       "    </tr>\n",
       "    <tr>\n",
       "      <th>23</th>\n",
       "      <td>0.20</td>\n",
       "      <td>(Baroque, Renaissance, 17th century)</td>\n",
       "    </tr>\n",
       "    <tr>\n",
       "      <th>24</th>\n",
       "      <td>0.20</td>\n",
       "      <td>(Renaissance, 16th century, 15th century, 17th...</td>\n",
       "    </tr>\n",
       "    <tr>\n",
       "      <th>25</th>\n",
       "      <td>0.20</td>\n",
       "      <td>(Baroque, Renaissance, 16th century, 17th cent...</td>\n",
       "    </tr>\n",
       "  </tbody>\n",
       "</table>\n",
       "</div>"
      ],
      "text/plain": [
       "    support                                           itemsets\n",
       "0      0.32                                     (15th century)\n",
       "1      0.40                                     (16th century)\n",
       "2      0.32                                     (17th century)\n",
       "3      0.36                                          (Baroque)\n",
       "4      0.20                                      (Middle Ages)\n",
       "5      0.60                                      (Renaissance)\n",
       "6      0.20                                        (mannerism)\n",
       "7      0.28                       (16th century, 15th century)\n",
       "8      0.20                       (15th century, 17th century)\n",
       "9      0.28                        (Renaissance, 15th century)\n",
       "10     0.28                       (16th century, 17th century)\n",
       "11     0.24                            (Baroque, 16th century)\n",
       "12     0.28                        (Renaissance, 16th century)\n",
       "13     0.24                            (Baroque, 17th century)\n",
       "14     0.24                        (Renaissance, 17th century)\n",
       "15     0.24                             (Baroque, Renaissance)\n",
       "16     0.20                               (Baroque, mannerism)\n",
       "17     0.20         (16th century, 15th century, 17th century)\n",
       "18     0.24          (Renaissance, 16th century, 15th century)\n",
       "19     0.20          (Renaissance, 15th century, 17th century)\n",
       "20     0.20              (Baroque, 16th century, 17th century)\n",
       "21     0.24          (Renaissance, 16th century, 17th century)\n",
       "22     0.20               (Baroque, Renaissance, 16th century)\n",
       "23     0.20               (Baroque, Renaissance, 17th century)\n",
       "24     0.20  (Renaissance, 16th century, 15th century, 17th...\n",
       "25     0.20  (Baroque, Renaissance, 16th century, 17th cent..."
      ]
     },
     "execution_count": 38,
     "metadata": {},
     "output_type": "execute_result"
    }
   ],
   "source": [
    "from mlxtend.preprocessing import TransactionEncoder\n",
    "from mlxtend.frequent_patterns import apriori\n",
    "\n",
    "dataset = colls_and_periods\n",
    "\n",
    "te = TransactionEncoder()\n",
    "te_ary = te.fit(dataset).transform(dataset)\n",
    "df = pd.DataFrame(te_ary, columns=te.columns_)\n",
    "\n",
    "frequent_itemsets = apriori(df, min_support=0.2, use_colnames=True)\n",
    "frequent_itemsets"
   ]
  },
  {
   "cell_type": "markdown",
   "metadata": {},
   "source": [
    "The dataset is quite small and diverse, hence the co-occurrences do not have high support, meaning that the variables we are investigating **may be** independent from each other.\n",
    "\n",
    "However, support is not the only metric of interest. The method `association_rules` allows us to specify another metric of interest and the threshold. The library supports **confidence** and **lift** (See more [here](http://rasbt.github.io/mlxtend/user_guide/frequent_patterns/association_rules/)). \n",
    "\n",
    "For instance, let's have a look at the itemsets that have high confidence, regardless the support. That is, let's see which are the rules where the probability of seeing the consequent in a transaction given a certain antecedent is almost sure (0.9 out of 1)."
   ]
  },
  {
   "cell_type": "code",
   "execution_count": 39,
   "metadata": {},
   "outputs": [
    {
     "data": {
      "text/html": [
       "<div>\n",
       "<style scoped>\n",
       "    .dataframe tbody tr th:only-of-type {\n",
       "        vertical-align: middle;\n",
       "    }\n",
       "\n",
       "    .dataframe tbody tr th {\n",
       "        vertical-align: top;\n",
       "    }\n",
       "\n",
       "    .dataframe thead th {\n",
       "        text-align: right;\n",
       "    }\n",
       "</style>\n",
       "<table border=\"1\" class=\"dataframe\">\n",
       "  <thead>\n",
       "    <tr style=\"text-align: right;\">\n",
       "      <th></th>\n",
       "      <th>antecedents</th>\n",
       "      <th>consequents</th>\n",
       "      <th>antecedent support</th>\n",
       "      <th>consequent support</th>\n",
       "      <th>support</th>\n",
       "      <th>confidence</th>\n",
       "      <th>lift</th>\n",
       "      <th>leverage</th>\n",
       "      <th>conviction</th>\n",
       "    </tr>\n",
       "  </thead>\n",
       "  <tbody>\n",
       "    <tr>\n",
       "      <th>0</th>\n",
       "      <td>(mannerism)</td>\n",
       "      <td>(Baroque)</td>\n",
       "      <td>0.20</td>\n",
       "      <td>0.36</td>\n",
       "      <td>0.20</td>\n",
       "      <td>1.0</td>\n",
       "      <td>2.777778</td>\n",
       "      <td>0.128</td>\n",
       "      <td>inf</td>\n",
       "    </tr>\n",
       "    <tr>\n",
       "      <th>1</th>\n",
       "      <td>(15th century, 17th century)</td>\n",
       "      <td>(16th century)</td>\n",
       "      <td>0.20</td>\n",
       "      <td>0.40</td>\n",
       "      <td>0.20</td>\n",
       "      <td>1.0</td>\n",
       "      <td>2.500000</td>\n",
       "      <td>0.120</td>\n",
       "      <td>inf</td>\n",
       "    </tr>\n",
       "    <tr>\n",
       "      <th>2</th>\n",
       "      <td>(15th century, 17th century)</td>\n",
       "      <td>(Renaissance)</td>\n",
       "      <td>0.20</td>\n",
       "      <td>0.60</td>\n",
       "      <td>0.20</td>\n",
       "      <td>1.0</td>\n",
       "      <td>1.666667</td>\n",
       "      <td>0.080</td>\n",
       "      <td>inf</td>\n",
       "    </tr>\n",
       "    <tr>\n",
       "      <th>3</th>\n",
       "      <td>(Renaissance, 17th century)</td>\n",
       "      <td>(16th century)</td>\n",
       "      <td>0.24</td>\n",
       "      <td>0.40</td>\n",
       "      <td>0.24</td>\n",
       "      <td>1.0</td>\n",
       "      <td>2.500000</td>\n",
       "      <td>0.144</td>\n",
       "      <td>inf</td>\n",
       "    </tr>\n",
       "    <tr>\n",
       "      <th>4</th>\n",
       "      <td>(Renaissance, 15th century, 17th century)</td>\n",
       "      <td>(16th century)</td>\n",
       "      <td>0.20</td>\n",
       "      <td>0.40</td>\n",
       "      <td>0.20</td>\n",
       "      <td>1.0</td>\n",
       "      <td>2.500000</td>\n",
       "      <td>0.120</td>\n",
       "      <td>inf</td>\n",
       "    </tr>\n",
       "    <tr>\n",
       "      <th>5</th>\n",
       "      <td>(16th century, 15th century, 17th century)</td>\n",
       "      <td>(Renaissance)</td>\n",
       "      <td>0.20</td>\n",
       "      <td>0.60</td>\n",
       "      <td>0.20</td>\n",
       "      <td>1.0</td>\n",
       "      <td>1.666667</td>\n",
       "      <td>0.080</td>\n",
       "      <td>inf</td>\n",
       "    </tr>\n",
       "    <tr>\n",
       "      <th>6</th>\n",
       "      <td>(15th century, 17th century)</td>\n",
       "      <td>(Renaissance, 16th century)</td>\n",
       "      <td>0.20</td>\n",
       "      <td>0.28</td>\n",
       "      <td>0.20</td>\n",
       "      <td>1.0</td>\n",
       "      <td>3.571429</td>\n",
       "      <td>0.144</td>\n",
       "      <td>inf</td>\n",
       "    </tr>\n",
       "    <tr>\n",
       "      <th>7</th>\n",
       "      <td>(Baroque, Renaissance, 16th century)</td>\n",
       "      <td>(17th century)</td>\n",
       "      <td>0.20</td>\n",
       "      <td>0.32</td>\n",
       "      <td>0.20</td>\n",
       "      <td>1.0</td>\n",
       "      <td>3.125000</td>\n",
       "      <td>0.136</td>\n",
       "      <td>inf</td>\n",
       "    </tr>\n",
       "    <tr>\n",
       "      <th>8</th>\n",
       "      <td>(Baroque, Renaissance, 17th century)</td>\n",
       "      <td>(16th century)</td>\n",
       "      <td>0.20</td>\n",
       "      <td>0.40</td>\n",
       "      <td>0.20</td>\n",
       "      <td>1.0</td>\n",
       "      <td>2.500000</td>\n",
       "      <td>0.120</td>\n",
       "      <td>inf</td>\n",
       "    </tr>\n",
       "    <tr>\n",
       "      <th>9</th>\n",
       "      <td>(Baroque, 16th century, 17th century)</td>\n",
       "      <td>(Renaissance)</td>\n",
       "      <td>0.20</td>\n",
       "      <td>0.60</td>\n",
       "      <td>0.20</td>\n",
       "      <td>1.0</td>\n",
       "      <td>1.666667</td>\n",
       "      <td>0.080</td>\n",
       "      <td>inf</td>\n",
       "    </tr>\n",
       "  </tbody>\n",
       "</table>\n",
       "</div>"
      ],
      "text/plain": [
       "                                  antecedents                  consequents  \\\n",
       "0                                 (mannerism)                    (Baroque)   \n",
       "1                (15th century, 17th century)               (16th century)   \n",
       "2                (15th century, 17th century)                (Renaissance)   \n",
       "3                 (Renaissance, 17th century)               (16th century)   \n",
       "4   (Renaissance, 15th century, 17th century)               (16th century)   \n",
       "5  (16th century, 15th century, 17th century)                (Renaissance)   \n",
       "6                (15th century, 17th century)  (Renaissance, 16th century)   \n",
       "7        (Baroque, Renaissance, 16th century)               (17th century)   \n",
       "8        (Baroque, Renaissance, 17th century)               (16th century)   \n",
       "9       (Baroque, 16th century, 17th century)                (Renaissance)   \n",
       "\n",
       "   antecedent support  consequent support  support  confidence      lift  \\\n",
       "0                0.20                0.36     0.20         1.0  2.777778   \n",
       "1                0.20                0.40     0.20         1.0  2.500000   \n",
       "2                0.20                0.60     0.20         1.0  1.666667   \n",
       "3                0.24                0.40     0.24         1.0  2.500000   \n",
       "4                0.20                0.40     0.20         1.0  2.500000   \n",
       "5                0.20                0.60     0.20         1.0  1.666667   \n",
       "6                0.20                0.28     0.20         1.0  3.571429   \n",
       "7                0.20                0.32     0.20         1.0  3.125000   \n",
       "8                0.20                0.40     0.20         1.0  2.500000   \n",
       "9                0.20                0.60     0.20         1.0  1.666667   \n",
       "\n",
       "   leverage  conviction  \n",
       "0     0.128         inf  \n",
       "1     0.120         inf  \n",
       "2     0.080         inf  \n",
       "3     0.144         inf  \n",
       "4     0.120         inf  \n",
       "5     0.080         inf  \n",
       "6     0.144         inf  \n",
       "7     0.136         inf  \n",
       "8     0.120         inf  \n",
       "9     0.080         inf  "
      ]
     },
     "execution_count": 39,
     "metadata": {},
     "output_type": "execute_result"
    }
   ],
   "source": [
    "from mlxtend.frequent_patterns import association_rules\n",
    "association_rules(frequent_itemsets, metric=\"confidence\", min_threshold=0.9)"
   ]
  },
  {
   "cell_type": "markdown",
   "metadata": {},
   "source": [
    "Since we selected a very high threshold, we see that all the rules have a perfect confidence (`1.0`), despite a low support (again, we have few and diverse data), high lift (how much often antec and conseq appear together, the higher the more these are dependent), and high conviction (`inf` means that the consequent is highly depending on the antecedent). \n",
    "\n",
    "From the results we get some interesting insights. For instance, it seems very likely that mannerism and baroque are studied together. Similarly, if a collection addresses 15th century and 17th century, it's very likely that it will also address Renaissance and 16th century. \n",
    "\n",
    "### Why is this interesting?\n",
    "\n",
    "Assume that *cataloguers of ARTchives did not enter data with the same effort* for every collections. Some collections may be more accurately annotated, while others might include just a few topics. In this way can quantify the probability to find certain topics (that are not explictly stated by cataloguers) and suggest the collections to historians according to their relevance, e.g. ranking collections in the list of results from a search interface, showing first the ones that address for sure the searched terms, and secondly the ones that are *more likely* to address it."
   ]
  },
  {
   "cell_type": "markdown",
   "metadata": {},
   "source": [
    "## Exercise / Homework\n",
    "\n",
    "Apply the apriori algorithm to calculate which people (`art:hasSubjectPerson`) mostly co-occur in ARTchives collections. Write the three rules with the highest confidence in the form: (antecedents) - (consequents).\n",
    "Fill in the [questionnaire](https://forms.gle/cri2JhzGTzGzofZu7) with the answer!"
   ]
  }
 ],
 "metadata": {
  "kernelspec": {
   "display_name": "Python 3",
   "language": "python",
   "name": "python3"
  },
  "language_info": {
   "codemirror_mode": {
    "name": "ipython",
    "version": 3
   },
   "file_extension": ".py",
   "mimetype": "text/x-python",
   "name": "python",
   "nbconvert_exporter": "python",
   "pygments_lexer": "ipython3",
   "version": "3.8.0"
  }
 },
 "nbformat": 4,
 "nbformat_minor": 4
}
