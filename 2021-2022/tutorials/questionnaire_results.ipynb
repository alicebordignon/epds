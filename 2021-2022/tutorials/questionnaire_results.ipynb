{
 "cells": [
  {
   "cell_type": "markdown",
   "metadata": {},
   "source": [
    "# Test 3"
   ]
  },
  {
   "cell_type": "code",
   "execution_count": 6,
   "metadata": {},
   "outputs": [],
   "source": [
    "# shared background for all exercises \n",
    "\n",
    "import rdflib\n",
    "from rdflib import Namespace\n",
    "\n",
    "g = rdflib.ConjunctiveGraph()\n",
    "result = g.parse(\"../resources/artchives.nq\", format='nquads')"
   ]
  },
  {
   "cell_type": "markdown",
   "metadata": {},
   "source": [
    "### List of countries"
   ]
  },
  {
   "cell_type": "code",
   "execution_count": 7,
   "metadata": {},
   "outputs": [
    {
     "name": "stdout",
     "output_type": "stream",
     "text": [
      "Italy\n",
      "Germany\n",
      "England\n",
      "United States of America\n",
      "Hungary\n",
      "Russia\n"
     ]
    }
   ],
   "source": [
    "# solution 1 - correct\n",
    "listone = list()\n",
    "for s, p, o in g.triples((None, wdp.P27, None)):\n",
    "    for s1, p1, o1 in g.triples((o, RDFS.label, None)):\n",
    "        if o1.strip() not in listone:\n",
    "            listone.append(o1.strip())\n",
    "for country in listone:\n",
    "    print(country)"
   ]
  },
  {
   "cell_type": "code",
   "execution_count": 9,
   "metadata": {},
   "outputs": [
    {
     "name": "stdout",
     "output_type": "stream",
     "text": [
      "['United States of America', 'Italy', 'Russia', 'Hungary', 'Germany', 'England']\n"
     ]
    }
   ],
   "source": [
    "# solution 2 - correct\n",
    "import rdflib\n",
    "from rdflib import URIRef, Literal, Namespace\n",
    "from rdflib.namespace import RDFS\n",
    "\n",
    "# assign prefixes to namespaces\n",
    "wdp = Namespace(\"http://www.wikidata.org/prop/direct/\")\n",
    "\n",
    "# create an empty Graph\n",
    "g = rdflib.ConjunctiveGraph()\n",
    "\n",
    "# parse a local RDF file by specifying the format into the graph\n",
    "#result = g.parse(\"resources/artchives.nq\", format='nquads')\n",
    "# MD: changing path, but it is correct\n",
    "result = g.parse(\"../resources/artchives.nq\", format='nquads')\n",
    "\n",
    "u_country = set()\n",
    "for s, p, o in g.triples((None, wdp.P27, None)): #URIRef(\"\"http://www.wikidata.org/prop/direct/P27\"\")\n",
    "    for s1, p1, o1 in g.triples((o, RDFS.label, None)):\n",
    "        u_country.add(o1.strip())\n",
    "l_of_countries = list(u_country)\n",
    "print(l_of_countries)"
   ]
  },
  {
   "cell_type": "code",
   "execution_count": 11,
   "metadata": {},
   "outputs": [
    {
     "name": "stdout",
     "output_type": "stream",
     "text": [
      "['United States of America', 'Italy', 'Russia', 'Hungary', 'Germany', 'England']\n"
     ]
    }
   ],
   "source": [
    "# solution 3 - correct\n",
    "\n",
    "import rdflib\n",
    "from rdflib import Namespace\n",
    "from rdflib.namespace import RDFS\n",
    "\n",
    "g = rdflib.ConjunctiveGraph()\n",
    "#result = g.parse(\"/Users/luisaammirati/Desktop/DHDK/ELECTRONIC PUBLISHING/dhdk_epds/resources/artchives.nq.txt\", format='nquads')\n",
    "# MD: changing path, but it is correct\n",
    "result = g.parse(\"../resources/artchives.nq\", format='nquads')\n",
    "unique_objs = set()\n",
    "final_set = set()\n",
    "wdp = Namespace(\"http://www.wikidata.org/prop/direct/\")\n",
    "\n",
    "for subj, pred, obj in g.triples((None, wdp.P27, None)):\n",
    "    unique_objs.add(obj)\n",
    "\n",
    "for s, p, o in g.triples((None, RDFS.label, None)):\n",
    "    if s in unique_objs:\n",
    "        final_set.add(o.strip())\n",
    "\n",
    "final_list = list(final_set)\n",
    "print(final_list)"
   ]
  },
  {
   "cell_type": "code",
   "execution_count": 13,
   "metadata": {},
   "outputs": [
    {
     "name": "stdout",
     "output_type": "stream",
     "text": [
      "['United States of America', 'Italy', 'Russia', 'Hungary', 'Germany', 'England']\n"
     ]
    }
   ],
   "source": [
    "# solution 4 - correct\n",
    "\n",
    "import rdflib\n",
    "from rdflib import Namespace\n",
    "from rdflib.namespace import RDFS\n",
    "\n",
    "g = rdflib.ConjunctiveGraph()\n",
    "#result = g.parse(\"\"../pythonepds/resources/artchives.nq.txt\"\", format='nquads')\n",
    "# MD: changing path, but it is correct\n",
    "result = g.parse(\"../resources/artchives.nq\", format='nquads')\n",
    "\n",
    "unique_objs = set()\n",
    "list_of_countries = set()\n",
    "wdp = Namespace(\"http://www.wikidata.org/prop/direct/\")\n",
    "for subj, pred, obj in g.triples((None, wdp.P27, None)):\n",
    "    unique_objs.add(obj)\n",
    "    #print(unique_objs)\n",
    "\n",
    "for s, p, o in g.triples((None, RDFS.label, None)):\n",
    "    if s in unique_objs:\n",
    "        #print(o.strip())\n",
    "        list_of_countries.add(o.strip())\n",
    "#print(list_of_countries)\n",
    "\n",
    "list_of_countries = list(list_of_countries)\n",
    "print(list_of_countries)"
   ]
  },
  {
   "cell_type": "code",
   "execution_count": 14,
   "metadata": {},
   "outputs": [
    {
     "name": "stdout",
     "output_type": "stream",
     "text": [
      "{'United States of America', 'Italy', 'Russia', 'Hungary', 'Germany', 'England'}\n"
     ]
    }
   ],
   "source": [
    "# solution 5 - correct\n",
    "\n",
    "import rdflib\n",
    "from rdflib import Namespace\n",
    "from rdflib.namespace import RDFS\n",
    "\n",
    "wdp = Namespace(\"http://www.wikidata.org/prop/direct/\")\n",
    "\n",
    "g = rdflib.ConjunctiveGraph()\n",
    "#result = g.parse(\"\"C:\\\\Users\\\\bordi\\\\OneDrive\\\\Desktop\\\\dhdk_epds\\\\resources\\\\artchives.nq\"\", format='nquads')\n",
    "# MD: changing path, but it is correct\n",
    "result = g.parse(\"../resources/artchives.nq\", format='nquads')\n",
    "unique_countries = set()\n",
    "\n",
    "for s, p, o in g.triples((None, wdp.P27, None)):\n",
    "    for s1, p1, o1 in g.triples((o, RDFS.label, None)):\n",
    "        unique_countries.add(o1.strip())\n",
    "print(unique_countries)"
   ]
  },
  {
   "cell_type": "code",
   "execution_count": 18,
   "metadata": {},
   "outputs": [
    {
     "data": {
      "text/plain": [
       "{'England',\n",
       " 'Germany',\n",
       " 'Hungary',\n",
       " 'Italy',\n",
       " 'Russia',\n",
       " 'United States of America'}"
      ]
     },
     "execution_count": 18,
     "metadata": {},
     "output_type": "execute_result"
    }
   ],
   "source": [
    "# solution 6 - correct\n",
    "\n",
    "from rdflib import Namespace\n",
    "from rdflib.namespace import RDFS\n",
    "wd = Namespace(\"http://www.wikidata.org/entity/\") \n",
    "wdt = Namespace(\"http://www.wikidata.org/prop/direct/\")\n",
    "art = Namespace(\"https://w3id.org/artchives/\")\n",
    "\n",
    "countries = set()\n",
    "for s, p, o in g.triples((None, wdt.P27, None)): \n",
    "      for sub, pr, ob in g.triples((o, RDFS.label, None)):\n",
    "          countries.add(ob.strip())\n",
    "        \n",
    "# MD adding the print\n",
    "countries"
   ]
  },
  {
   "cell_type": "code",
   "execution_count": 19,
   "metadata": {},
   "outputs": [
    {
     "name": "stdout",
     "output_type": "stream",
     "text": [
      "{'United States of America', 'Italy', 'Russia', 'Hungary', 'Germany', 'England'}\n"
     ]
    }
   ],
   "source": [
    "# solution 7 - correct\n",
    "\n",
    "from rdflib.namespace import RDFS\n",
    "wdt = Namespace(\"http://www.wikidata.org/prop/direct/\")\n",
    "countries_set = set()\n",
    "\n",
    "for a,b,c in g.triples((None, wdt.P27, None)):\n",
    "  for a1,b1,c1 in g.triples((c, RDFS.label, None)):\n",
    "    countries_set.add(c1.strip())\n",
    "\n",
    "print(countries_set)"
   ]
  },
  {
   "cell_type": "code",
   "execution_count": 20,
   "metadata": {},
   "outputs": [
    {
     "name": "stdout",
     "output_type": "stream",
     "text": [
      "United States of America\n",
      "Italy\n",
      "Russia\n",
      "Hungary\n",
      "Germany\n",
      "England\n"
     ]
    }
   ],
   "source": [
    "# solution 8 - correct\n",
    "\n",
    "import rdflib\n",
    "from rdflib import Namespace\n",
    "from rdflib.namespace import XSD, RDFS, DCTERMS\n",
    "\n",
    "g = rdflib.ConjunctiveGraph()\n",
    "wd = Namespace(\"http://www.wikidata.org/entity/\") # remember that a prefix matches a URI until the last slash (or hashtag #)\n",
    "wdt = Namespace(\"http://www.wikidata.org/prop/direct/\")\n",
    "art = Namespace(\"https://w3id.org/artchives/\") \n",
    "result = g.parse(\"../resources/artchives.nq\", format='nquads')\n",
    "unique_labels = set()\n",
    "for s,p,o in g.triples((None,wdt.P106,wd.Q1792450)):\n",
    "    for s1,p1,o1 in g.triples((s,wdt.P27,None)):\n",
    "        for s2,p2,o2 in g.triples((o1,RDFS.label,None)):\n",
    "            unique_labels.add(o2.strip())\n",
    "        \n",
    "for i in unique_labels:\n",
    "    print(i)\n",
    "\n",
    "# 'Result: England, United States of America, Italy, Hungary, Germany, Russia'\""
   ]
  },
  {
   "cell_type": "code",
   "execution_count": 21,
   "metadata": {},
   "outputs": [
    {
     "name": "stdout",
     "output_type": "stream",
     "text": [
      "{'United States of America', 'Italy', 'Russia', 'Hungary', 'Germany', 'England'}\n"
     ]
    }
   ],
   "source": [
    "# solution 9 - correct\n",
    "\n",
    "import rdflib\n",
    "from rdflib import URIRef, Literal, Namespace\n",
    "from rdflib.namespace import XSD, RDFS, DCTERMS\n",
    "\n",
    "g = rdflib.ConjunctiveGraph()\n",
    "result = g.parse(\"../resources/artchives.nq\", format='nquads')\n",
    "\n",
    "wd = Namespace(\"http://www.wikidata.org/entity/\")\n",
    "wdt = Namespace(\"http://www.wikidata.org/prop/direct/\")\n",
    "art = Namespace(\"https://w3id.org/artchives/\")\n",
    "\n",
    "countries = set()\n",
    "for s, p, o in g.triples((None, wdt.P27, None)):\n",
    "    for s1, p1, o1 in g.triples((o, RDFS.label, None)):\n",
    "        countries.add(o1.strip())\n",
    "\n",
    "print(countries)"
   ]
  },
  {
   "cell_type": "code",
   "execution_count": 22,
   "metadata": {},
   "outputs": [
    {
     "name": "stdout",
     "output_type": "stream",
     "text": [
      "United States of America\n",
      "Italy\n",
      "Russia\n",
      "Hungary\n",
      "Germany\n",
      "England\n"
     ]
    }
   ],
   "source": [
    "# solution 10 - correct\n",
    "import rdflib\n",
    "from rdflib import Namespace\n",
    "from rdflib.namespace import RDFS\n",
    "\n",
    "my_graph= rdflib.ConjunctiveGraph()\n",
    "\n",
    "result = my_graph.parse(\"../resources/artchives.nq\", format='nquads')\n",
    "\n",
    "places_list=set()\n",
    "\n",
    "wd = Namespace(\"http://www.wikidata.org/entity/\")\n",
    "wdt = Namespace(\"http://www.wikidata.org/prop/direct/\")\n",
    "art = Namespace(\"https://w3id.org/artchives/\")\n",
    "\n",
    "for s, p, o in my_graph.triples((None, wdt.P27, None)):\n",
    "    for s1, p1, o1, in my_graph.triples((o, RDFS.label, None)):\n",
    "        places_list.add(o1.strip())\n",
    "\n",
    "for place in places_list:\n",
    "\n",
    "    print(place)"
   ]
  },
  {
   "cell_type": "code",
   "execution_count": 24,
   "metadata": {},
   "outputs": [
    {
     "name": "stdout",
     "output_type": "stream",
     "text": [
      "5754\n",
      "{'United States of America', 'Italy', 'Russia', 'Hungary', 'Germany', 'England'}\n"
     ]
    }
   ],
   "source": [
    "# solution 11 - correct\n",
    "import rdflib\n",
    "from rdflib import URIRef, Literal, Namespace\n",
    "from rdflib.namespace import XSD, RDFS, DCTERMS\n",
    "\n",
    "\n",
    "\n",
    "# create an empty Graph\n",
    "g = rdflib.ConjunctiveGraph()\n",
    "\n",
    "# parse a local RDF file by specifying the format into the graph\n",
    "#result = g.parse(\"\"C:/Users/Giorgia Sampo/OneDrive/Desktop/dhdk_epds/resources/artchives.nq\"\", format='nquads')\n",
    "# MD: changing path, but it is correct\n",
    "result = g.parse(\"../resources/artchives.nq\", format='nquads')\n",
    "\n",
    "## the number of triples (quadruples)\n",
    "print(len(g))\n",
    "\n",
    "unique_objs = set()\n",
    "for subj, pred, obj, context in g.quads():\n",
    "    unique_objs.add(obj)\n",
    "\n",
    "\n",
    "# assign prefixes to namespaces\n",
    "wd = Namespace(\"http://www.wikidata.org/entity/\") # remember that a prefix matches a URI until the last slash (or hashtag #)\n",
    "wdt = Namespace(\"http://www.wikidata.org/prop/direct/\")\n",
    "art = Namespace(\"https://w3id.org/artchives/\")\n",
    "\n",
    "\n",
    "historian_list = set()\n",
    "\n",
    "for s,p,o in g.triples((None, wdt.P27, None)):\n",
    "    for s1,p1,o1 in g.triples((o, RDFS.label, None)):\n",
    "        historian_list.add(o1.strip())\n",
    "\n",
    "\n",
    "print(historian_list)\n"
   ]
  },
  {
   "cell_type": "code",
   "execution_count": 25,
   "metadata": {},
   "outputs": [
    {
     "name": "stdout",
     "output_type": "stream",
     "text": [
      "United States of America\n",
      "Italy\n",
      "Russia\n",
      "Hungary\n",
      "Germany\n",
      "England\n"
     ]
    }
   ],
   "source": [
    "# solution 12 - correct\n",
    "\n",
    "import rdflib\n",
    "from rdflib import Namespace\n",
    "from rdflib.namespace import RDFS\n",
    "\n",
    "my_graph= rdflib.ConjunctiveGraph()\n",
    "\n",
    "result = my_graph.parse(\"../resources/artchives.nq\", format='nquads')\n",
    "\n",
    "places_list=set()\n",
    "\n",
    "wd = Namespace(\"http://www.wikidata.org/entity/\") \n",
    "wdt = Namespace(\"http://www.wikidata.org/prop/direct/\")\n",
    "art = Namespace(\"https://w3id.org/artchives/\")\n",
    "\n",
    "for s, p, o in my_graph.triples((None, wdt.P27, None)):\n",
    "    for s1, p1, o1, in my_graph.triples((o, RDFS.label, None)):\n",
    "        places_list.add(o1.strip())\n",
    "\n",
    "for place in places_list:\n",
    "\n",
    "    print(place)\n",
    "\n"
   ]
  },
  {
   "cell_type": "code",
   "execution_count": 26,
   "metadata": {},
   "outputs": [
    {
     "name": "stdout",
     "output_type": "stream",
     "text": [
      "{'United States of America', 'Italy', 'Russia', 'Hungary', 'Germany', 'England'}\n"
     ]
    }
   ],
   "source": [
    "# solution 13 - correct\n",
    "\n",
    "import pprint\n",
    "import rdflib\n",
    "from rdflib import URIRef, Literal, Namespace\n",
    "from rdflib.namespace import XSD, RDFS, DCTERMS\n",
    "from rdflib import Literal\n",
    "from rdflib.namespace import RDFS\n",
    "\n",
    "\n",
    "g = rdflib.ConjunctiveGraph()\n",
    "\n",
    "#result = g.parse(\"\"dhdk_epds/resources/artchives.nq\"\", format='nquads')\n",
    "# MD: changing path, but it is correct\n",
    "result = g.parse(\"../resources/artchives.nq\", format='nquads')\n",
    "\n",
    "wd = Namespace(\"http://www.wikidata.org/entity/\") # remember that a prefix matches a URI until the last slash (or hashtag #)\n",
    "wdt = Namespace(\"http://www.wikidata.org/prop/direct/\")\n",
    "art = Namespace(\"https://w3id.org/artchives/\")\n",
    "\n",
    "historian_list = set()\n",
    "\n",
    "for subj, pred, obj in g.triples((None, wdt.P27, None)):\n",
    "    for s, p, o in g.triples((obj, RDFS.label, None)):\n",
    "        historian_list.add(o.strip())\n",
    " \n",
    "print(historian_list)"
   ]
  },
  {
   "cell_type": "code",
   "execution_count": 27,
   "metadata": {},
   "outputs": [
    {
     "name": "stdout",
     "output_type": "stream",
     "text": [
      "['United States of America', 'Italy', 'Russia', 'Hungary', 'Germany', 'England']\n"
     ]
    }
   ],
   "source": [
    "# solution 14 - correct\n",
    "\n",
    "import rdflib\n",
    "from rdflib.namespace import RDFS\n",
    "\n",
    "g=rdflib.ConjunctiveGraph()\n",
    "#result=g.parse( \"\"C:/Users/Lorenza/Desktop/dhdk_epds/resources/artchives.nq.txt\"\", format='nquads' )\n",
    "# MD: changing path, but it is correct\n",
    "result = g.parse(\"../resources/artchives.nq\", format='nquads')\n",
    "from rdflib import Namespace\n",
    "\n",
    "wdp=Namespace( \"http://www.wikidata.org/prop/direct/\" )\n",
    "\n",
    "country= set()\n",
    "country_list= []\n",
    "for s, p, o in g.triples( (None, wdp.P27, None) ):\n",
    "    for s1, p1, o1 in g.triples( (o, RDFS.label, None) ):\n",
    "        country.add( o1.strip() )\n",
    "for c in country:\n",
    "    country_list.append(c)\n",
    "print(country_list)"
   ]
  },
  {
   "cell_type": "markdown",
   "metadata": {},
   "source": [
    "### Countries and countings\n",
    "\n",
    "One possible solution is this below. The best solution is #12"
   ]
  },
  {
   "cell_type": "code",
   "execution_count": 99,
   "metadata": {},
   "outputs": [
    {
     "name": "stdout",
     "output_type": "stream",
     "text": [
      "{rdflib.term.URIRef('http://www.wikidata.org/entity/Q38'): 6, rdflib.term.URIRef('http://www.wikidata.org/entity/Q21'): 2, rdflib.term.URIRef('http://www.wikidata.org/entity/Q183'): 12, rdflib.term.URIRef('http://www.wikidata.org/entity/Q159'): 1, rdflib.term.URIRef('http://www.wikidata.org/entity/Q28'): 1, rdflib.term.URIRef('http://www.wikidata.org/entity/Q30'): 2}\n",
      "{'Italy': 6, 'England': 2, 'Germany': 12, 'Russia': 1, 'Hungary': 1, 'United States of America': 2}\n"
     ]
    }
   ],
   "source": [
    "counter_countries = {}\n",
    "# count occurrences of wdp.P27, create a dictionary with the counter\n",
    "for s, p, o in g.triples((None, wdp.P27, None)):\n",
    "    if o not in counter_countries:\n",
    "        counter_countries[o] = 1\n",
    "    else:\n",
    "        counter_countries[o] += 1\n",
    "print(counter_countries)\n",
    "\n",
    "# create a new dictionary where to replace URIs with labels\n",
    "counter = {}\n",
    "for country_uri, count in counter_countries.items():\n",
    "    for s, p, country_label in g.triples((country_uri, RDFS.label, None)):\n",
    "        if country_uri in counter_countries:\n",
    "            counter[str(country_label.strip())] = counter_countries[country_uri]\n",
    "\n",
    "print(counter)  "
   ]
  },
  {
   "cell_type": "code",
   "execution_count": 28,
   "metadata": {},
   "outputs": [
    {
     "name": "stdout",
     "output_type": "stream",
     "text": [
      "Germany\n",
      "Italy\n",
      "United States of America\n",
      "Russia\n",
      "England\n",
      "Hungary\n",
      "{rdflib.term.URIRef('http://www.wikidata.org/entity/Q183'): 12, rdflib.term.URIRef('http://www.wikidata.org/entity/Q38'): 6, rdflib.term.URIRef('http://www.wikidata.org/entity/Q30'): 2, rdflib.term.URIRef('http://www.wikidata.org/entity/Q159'): 1, rdflib.term.URIRef('http://www.wikidata.org/entity/Q21'): 2, rdflib.term.URIRef('http://www.wikidata.org/entity/Q28'): 1}\n"
     ]
    }
   ],
   "source": [
    "# solution 1 - correct, but imprecise output\n",
    "\n",
    "dicto = dict()\n",
    "listone = list()\n",
    "for s, p, o in g.triples((None, wdp.P27, None)):\n",
    "    if o not in dicto.keys():\n",
    "        dicto[o] = 1\n",
    "    else:\n",
    "        dicto[o] += 1\n",
    "    for s1, p1, o1 in g.triples((o, RDFS.label, None)):\n",
    "        if o1.strip() not in listone:\n",
    "            listone.append(o1.strip())\n",
    "for country in listone:\n",
    "    print(country)\n",
    "print(dicto)"
   ]
  },
  {
   "cell_type": "code",
   "execution_count": 31,
   "metadata": {},
   "outputs": [
    {
     "name": "stdout",
     "output_type": "stream",
     "text": [
      "{'Italy': 66, 'England': 4, 'Germany': 144, 'Russia': 2, 'Hungary': 1, 'United States of America': 10}\n"
     ]
    }
   ],
   "source": [
    "# solution 2 - incorrect, includes duplicate results, \n",
    "# you are counting occurrences of (o x o1), while you should count only occurrences of o\n",
    "\n",
    "import rdflib\n",
    "from rdflib import URIRef, Literal, Namespace\n",
    "from rdflib.namespace import RDFS\n",
    "\n",
    "# assign prefixes to namespaces\n",
    "wdp = Namespace(\"http://www.wikidata.org/prop/direct/\")\n",
    "\n",
    "# create an empty Graph\n",
    "g = rdflib.ConjunctiveGraph()\n",
    "# parse a local RDF file by specifying the format into the graph\n",
    "result = g.parse(\"../resources/artchives.nq\", format='nquads')\n",
    "\n",
    "country_count = dict()\n",
    "for s, p, o in g.triples((None, wdp.P27, None)): #URIRef(\"\"http://www.wikidata.org/prop/direct/P27\"\")\n",
    "    for s1, p1, o1 in g.triples((o, RDFS.label, None)):\n",
    "        if o1.strip() in country_count:\n",
    "            country_count[o1.strip()] += 1;\n",
    "        else:\n",
    "            country_count.update({o1.strip(): 1})\n",
    "\n",
    "print(country_count)"
   ]
  },
  {
   "cell_type": "code",
   "execution_count": 36,
   "metadata": {},
   "outputs": [
    {
     "name": "stdout",
     "output_type": "stream",
     "text": [
      "[rdflib.term.URIRef('http://www.wikidata.org/entity/Q38'), rdflib.term.URIRef('http://www.wikidata.org/entity/Q21'), rdflib.term.URIRef('http://www.wikidata.org/entity/Q183'), rdflib.term.URIRef('http://www.wikidata.org/entity/Q183'), rdflib.term.URIRef('http://www.wikidata.org/entity/Q159'), rdflib.term.URIRef('http://www.wikidata.org/entity/Q38'), rdflib.term.URIRef('http://www.wikidata.org/entity/Q38'), rdflib.term.URIRef('http://www.wikidata.org/entity/Q183'), rdflib.term.URIRef('http://www.wikidata.org/entity/Q183'), rdflib.term.URIRef('http://www.wikidata.org/entity/Q28'), rdflib.term.URIRef('http://www.wikidata.org/entity/Q183'), rdflib.term.URIRef('http://www.wikidata.org/entity/Q30'), rdflib.term.URIRef('http://www.wikidata.org/entity/Q183'), rdflib.term.URIRef('http://www.wikidata.org/entity/Q183'), rdflib.term.URIRef('http://www.wikidata.org/entity/Q183'), rdflib.term.URIRef('http://www.wikidata.org/entity/Q183'), rdflib.term.URIRef('http://www.wikidata.org/entity/Q21'), rdflib.term.URIRef('http://www.wikidata.org/entity/Q38'), rdflib.term.URIRef('http://www.wikidata.org/entity/Q183'), rdflib.term.URIRef('http://www.wikidata.org/entity/Q183'), rdflib.term.URIRef('http://www.wikidata.org/entity/Q30'), rdflib.term.URIRef('http://www.wikidata.org/entity/Q38'), rdflib.term.URIRef('http://www.wikidata.org/entity/Q183'), rdflib.term.URIRef('http://www.wikidata.org/entity/Q38')]\n",
      "['United States of America', 'Italy', 'Germany', 'United States of America', 'Germany', 'Germany', 'Italy', 'Italy', 'Italy', 'United States of America', 'Germany', 'Germany', 'Russia', 'Germany', 'England', 'Germany', 'United States of America', 'Russia', 'Italy', 'Hungary', 'United States of America', 'Italy', 'Italy', 'Italy', 'Italy', 'Germany', 'Germany', 'Germany', 'Germany', 'England', 'Italy', 'Italy', 'Germany']\n",
      "{'United States of America': 5, 'Italy': 11, 'Germany': 12, 'Russia': 2, 'England': 2, 'Hungary': 1}\n"
     ]
    }
   ],
   "source": [
    "# solution 3 - incorrect, you are iterating over occurrences of labels in first_list\n",
    "# rather than occurrences of wdp.P27 only\n",
    "\n",
    "import rdflib\n",
    "from rdflib import Namespace\n",
    "from rdflib.namespace import RDFS\n",
    "\n",
    "#g = rdflib.ConjunctiveGraph()\n",
    "#result = g.parse(\"/Users/luisaammirati/Desktop/DHDK/ELECTRONIC PUBLISHING/dhdk_epds/resources/artchives.nq.txt\", format='nquads')\n",
    "\n",
    "my_dict= {}\n",
    "first_list = list()\n",
    "list_occur = list()\n",
    "count = 0 # ?\n",
    "\n",
    "for subj, pred, obj in g.triples((None, wdp.P27, None)): # correct\n",
    "    first_list.append(obj)\n",
    "\n",
    "# incorrect here\n",
    "for s, p, o in g.triples((None, RDFS.label, None)): \n",
    "    if s in first_list: \n",
    "        list_occur.append(o.strip()) # even if you strip here, there will be duplicates, because it's a list\n",
    "\n",
    "for item in list_occur:\n",
    "    if item not in my_dict:\n",
    "        my_dict[item] = list_occur.count(item) # here you count the labels\n",
    "\n",
    "print(first_list)\n",
    "print(list_occur)\n",
    "print(my_dict)"
   ]
  },
  {
   "cell_type": "code",
   "execution_count": 38,
   "metadata": {},
   "outputs": [
    {
     "name": "stdout",
     "output_type": "stream",
     "text": [
      "{'United States of America': 5, 'Italy': 11, 'Germany': 12, 'Russia': 2, 'England': 2, 'Hungary': 1}\n"
     ]
    }
   ],
   "source": [
    "# solution 4 - incorrect, counting the labels of countries, not historians\n",
    "\n",
    "# result = g.parse(\"\"../pythonepds/resources/artchives.nq.txt\"\", format='nquads')\n",
    "unique_objs = set()\n",
    "list_of_countries = set()\n",
    "wdp = Namespace(\"http://www.wikidata.org/prop/direct/\")\n",
    "for subj, pred, obj in g.triples((None, wdp.P27, None)):\n",
    "    unique_objs.add(obj)\n",
    "\n",
    "list_for_dict = []\n",
    "\n",
    "for s, p, o in g.triples((None, RDFS.label, None)):\n",
    "    if s in unique_objs:\n",
    "        list_for_dict.append(o.strip())\n",
    "        list_of_countries.add(o.strip())\n",
    "        for i in list_for_dict:\n",
    "            Counter(list_for_dict)\n",
    "\n",
    "list_of_countries = list(list_of_countries)\n",
    "\n",
    "a = Counter(list_for_dict)\n",
    "dictt = dict(a)\n",
    "print(dictt)"
   ]
  },
  {
   "cell_type": "code",
   "execution_count": 100,
   "metadata": {},
   "outputs": [
    {
     "name": "stdout",
     "output_type": "stream",
     "text": [
      "{'United States of America': 10, 'Italy': 66, 'Russia': 2, 'Hungary': 1, 'Germany': 144, 'England': 4}\n"
     ]
    }
   ],
   "source": [
    "# solution 5 - incorrect, see above\n",
    "\n",
    "count_countries = dict()\n",
    "for i in unique_countries:\n",
    "    count_countries[i] = 0\n",
    "    for s, p, o in g.triples((None, wdp.P27, None)):\n",
    "        for s1, p1, o1 in g.triples((o, RDFS.label, None)):\n",
    "            if o1.strip() == i:\n",
    "                count_countries[i] += 1\n",
    "print(count_countries)"
   ]
  },
  {
   "cell_type": "code",
   "execution_count": 102,
   "metadata": {},
   "outputs": [
    {
     "name": "stdout",
     "output_type": "stream",
     "text": [
      "{'Italy': 11, 'England': 2, 'Germany': 12, 'Russia': 2, 'Hungary': 1, 'United States of America': 5}\n"
     ]
    }
   ],
   "source": [
    "# solution 6 - incorrect\n",
    "\n",
    "result = dict()\n",
    "for s, p, o in g.triples((None, wdt.P27, None)): \n",
    "    counter = 0\n",
    "    for c, pr, lab in g.triples((o,RDFS.label, None )):\n",
    "        counter += 1\n",
    "        result[lab.strip()] = counter\n",
    "print(result)"
   ]
  },
  {
   "cell_type": "code",
   "execution_count": 103,
   "metadata": {},
   "outputs": [
    {
     "name": "stdout",
     "output_type": "stream",
     "text": [
      "Italy 10\n",
      "Hungary 0\n",
      "Germany 11\n",
      "United States of America 4\n",
      "England 1\n",
      "Russia 1\n"
     ]
    }
   ],
   "source": [
    "# solution 7 - incorrect\n",
    "\n",
    "\n",
    "countries_set = set()\n",
    "countries_historians = dict()\n",
    "\n",
    "for a,b,c in g.triples((None, wdt.P27, None)):\n",
    "    countries_set.add(c)\n",
    "for el in countries_set:\n",
    "    for a1,b1,c1 in g.triples((el, RDFS.label, None)):\n",
    "        c2 = c1.strip()\n",
    "        if c2 not in countries_historians.keys():\n",
    "              countries_historians[c2] = 0\n",
    "        else:\n",
    "              countries_historians[c2] = countries_historians.get(c2,0) + 1\n",
    "\n",
    "for (country, number) in countries_historians.items():\n",
    "      print(country, number)"
   ]
  },
  {
   "cell_type": "code",
   "execution_count": 104,
   "metadata": {},
   "outputs": [
    {
     "name": "stdout",
     "output_type": "stream",
     "text": [
      "Germany = 84\n",
      "Italy = 33\n",
      "England = 4\n",
      "Hungary = 1\n",
      "Russia = 2\n",
      "United States of America = 5\n"
     ]
    }
   ],
   "source": [
    "# solution 8 - incorrect\n",
    "\n",
    "unique_labels = dict()\n",
    "seen_historians = set()\n",
    "for s,p,o in g.triples((None,wdt.P106,wd.Q1792450)):\n",
    "    if s.strip() not in seen_historians:\n",
    "        seen_historians.add(s.strip())\n",
    "        for s1,p1,o1 in g.triples((s,wdt.P27,None)):\n",
    "            for s2,p2,o2 in g.triples((o1,RDFS.label,None)):\n",
    "                if o2.strip() in unique_labels.keys():\n",
    "                    unique_labels[o2.strip()] += 1\n",
    "                else:\n",
    "                    unique_labels[o2.strip()] = 1\n",
    "                \n",
    "\n",
    "        \n",
    "for i in unique_labels.keys():\n",
    "    print(i + ' = ' + str(unique_labels[i]))\n"
   ]
  },
  {
   "cell_type": "code",
   "execution_count": 106,
   "metadata": {},
   "outputs": [
    {
     "name": "stdout",
     "output_type": "stream",
     "text": [
      "{'Italy': 11, 'England': 2, 'Germany': 12, 'Russia': 2, 'Hungary': 1, 'United States of America': 5}\n"
     ]
    }
   ],
   "source": [
    "# solution 9 - incorrect, counting the labels, not the historians\n",
    "\n",
    "result = dict()\n",
    "for s, p, o in g.triples((None, wdt.P27, None)):\n",
    "    counter = 0\n",
    "    for s1, p1, o1 in g.triples((o,RDFS.label, None )):\n",
    "        counter += 1\n",
    "        result[o1.strip()] = counter\n",
    "print(result)"
   ]
  },
  {
   "cell_type": "code",
   "execution_count": 108,
   "metadata": {},
   "outputs": [
    {
     "name": "stdout",
     "output_type": "stream",
     "text": [
      "England 4\n",
      "Italy 66\n",
      "Germany 144\n",
      "United States of America 10\n",
      "Hungary 1\n",
      "Russia 2\n"
     ]
    }
   ],
   "source": [
    "# solution 10 - incorrect\n",
    "\n",
    "\n",
    "places_list=dict()\n",
    "\n",
    "for s, p, o in my_graph.triples((None, wdt.P27, None)):\n",
    "    for s1, p1, o1, in my_graph.triples((o, RDFS.label, None)):\n",
    "        label = o1.strip()\n",
    "        if label in places_list:\n",
    "            x = places_list.get(label)\n",
    "            x += 1\n",
    "            places_list[o1.strip()]= x\n",
    "        else:\n",
    "            places_list[o1.strip()]=1\n",
    "        \n",
    "result = places_list.items()\n",
    "for p, c in result:\n",
    "    print(p, c)"
   ]
  },
  {
   "cell_type": "code",
   "execution_count": 109,
   "metadata": {},
   "outputs": [
    {
     "name": "stdout",
     "output_type": "stream",
     "text": [
      "{'United States of America', 'Italy', 'Russia', 'Hungary', 'Germany', 'England'}\n",
      "{'Italy': 6, 'England': 2, 'Germany': 12, 'Russia': 1, 'Hungary': 1, 'United States of America': 2}\n"
     ]
    }
   ],
   "source": [
    "# solution 11 - correct!!\n",
    "\n",
    "\n",
    "unique_objs = set()\n",
    "for subj, pred, obj, context in g.quads():\n",
    "    unique_objs.add(obj)\n",
    "\n",
    "historian_list = set()\n",
    "country_list = set()\n",
    "historian_dict = dict()\n",
    "\n",
    "for s,p,o in g.triples((None, wdt.P27, None)):\n",
    "    for s1,p1,o1 in g.triples((o, RDFS.label, None)):\n",
    "        country_list.add(o1.strip())\n",
    "    for s2,p2,o2 in g.triples((s, RDFS.label, None)):\n",
    "        historian_list.add(o2.strip())\n",
    "        if (o1.strip()) in historian_dict.keys():\n",
    "            historian_dict[(o1.strip())].append(o2.strip())\n",
    "        else:\n",
    "            historian_dict[(o1.strip())]=[]\n",
    "            historian_dict[(o1.strip())].append(o2.strip())\n",
    "\n",
    "    \n",
    "for item in historian_dict.keys():\n",
    "    historian_dict[item]=len(set(historian_dict[item]))\n",
    "\n",
    "print(country_list)\n",
    "print(historian_dict)"
   ]
  },
  {
   "cell_type": "code",
   "execution_count": 110,
   "metadata": {},
   "outputs": [
    {
     "name": "stdout",
     "output_type": "stream",
     "text": [
      "dict_items([('England', 2), ('Italy', 6), ('Germany', 12), ('United States of America', 2), ('Hungary', 1), ('Russia', 1)])\n"
     ]
    }
   ],
   "source": [
    "# solution 11 - correct!\n",
    "\n",
    "# CORRECTION\n",
    "result=dict()\n",
    "places= set()\n",
    "\n",
    "for s, p, o in my_graph.triples((None, wdt.P27, None)): #questo fa 24 giri\n",
    "    for s1, p1, o1 in my_graph.triples((o, RDFS.label, None)):\n",
    "        label = o1.strip()\n",
    "    if label not in result:\n",
    "        result[label]=1\n",
    "    else:\n",
    "        result[label]+=1\n",
    "\n",
    "\n",
    "\n",
    "print(result.items())\n",
    "\n",
    "#result=([('Italy', 6), ('Germany', 12), ('England', 2), ('Hungary', 1), ('United States of America', 2), ('Russia', 1)])"
   ]
  },
  {
   "cell_type": "code",
   "execution_count": 111,
   "metadata": {},
   "outputs": [
    {
     "name": "stdout",
     "output_type": "stream",
     "text": [
      "{'Italy': 6, 'England': 2, 'Germany': 12, 'Russia': 1, 'Hungary': 1, 'United States of America': 2}\n"
     ]
    }
   ],
   "source": [
    "# solution 12 - correct\n",
    "\n",
    "import pprint\n",
    "from typing import Counter\n",
    "\n",
    "historian_dict = dict()\n",
    "\n",
    "for subj, pred, obj in g.triples((None, wdt.P27, None)):\n",
    "    for s, p, o in g.triples((obj, RDFS.label, None)):\n",
    "        nome = o.strip()\n",
    "    if nome in historian_dict:\n",
    "        historian_dict[nome] += 1\n",
    "    else:\n",
    "        historian_dict[nome] = 1\n",
    "\n",
    "print(historian_dict)"
   ]
  },
  {
   "cell_type": "code",
   "execution_count": 112,
   "metadata": {},
   "outputs": [
    {
     "name": "stdout",
     "output_type": "stream",
     "text": [
      "{'United States of America': 5, 'Italy': 11, 'Germany': 12, 'Russia': 2, 'England': 2, 'Hungary': 1}\n"
     ]
    }
   ],
   "source": [
    "# solution 13 - incorrect\n",
    "\n",
    "\n",
    "dict= {}\n",
    "c_list=[]\n",
    "country_list= []\n",
    "for s, p, o in g.triples((None, wdp.P27, None)):\n",
    "    c_list.append(o)\n",
    "for s1, p1, o1 in g.triples((None, RDFS.label, None)):\n",
    "    if s1 in c_list:\n",
    "        country_list.append(o1.strip())\n",
    "for i in country_list:\n",
    "    if i in dict:\n",
    "        dict[i] = dict[i]+1\n",
    "    else:\n",
    "            dict[i] = 1\n",
    "print(dict)"
   ]
  },
  {
   "cell_type": "markdown",
   "metadata": {},
   "source": [
    "# Test 4"
   ]
  },
  {
   "cell_type": "markdown",
   "metadata": {},
   "source": [
    "### People from Berlin\n",
    "\n",
    "You should query the extended version of artchives dataset we created together"
   ]
  },
  {
   "cell_type": "code",
   "execution_count": 117,
   "metadata": {},
   "outputs": [
    {
     "name": "stdout",
     "output_type": "stream",
     "text": [
      "Kurt Badt\n",
      "Werner Cohn\n"
     ]
    }
   ],
   "source": [
    "g = rdflib.ConjunctiveGraph()\n",
    "# parse a local RDF file by specifying the format into the graph\n",
    "result = g.parse(\"../resources/artchives_birthplaces.nq\", format='nquads')\n",
    "\n",
    "q = g.query(\"\"\"\n",
    "    PREFIX wdt: <http://www.wikidata.org/prop/direct/>\n",
    "    PREFIX wd: <http://www.wikidata.org/entity/>\n",
    "    SELECT DISTINCT ?historian (SAMPLE(?l) AS ?label)\n",
    "    WHERE { ?historian wdt:P19 wd:Q64 ; rdfs:label ?l .\n",
    "        } GROUP BY ?historian\n",
    "\"\"\")\n",
    "\n",
    "for r in q:\n",
    "    print(r[1])"
   ]
  },
  {
   "cell_type": "code",
   "execution_count": 119,
   "metadata": {},
   "outputs": [
    {
     "name": "stdout",
     "output_type": "stream",
     "text": [
      "http://www.wikidata.org/entity/Q1629748 Kurt Badt\n",
      "http://www.wikidata.org/entity/Q18935222 Werner Cohn\n"
     ]
    }
   ],
   "source": [
    "# solution 1 - correct\n",
    "query_results = g.query(\n",
    "    \"\"\"\n",
    "    PREFIX wd: <http://www.wikidata.org/entity/>\n",
    "    PREFIX rdfs: <http://www.w3.org/2000/01/rdf-schema#>\n",
    "    PREFIX wdt: <http://www.wikidata.org/prop/direct/>\n",
    "\n",
    "    SELECT ?individual ?label\n",
    "    WHERE { ?individual wdt:P19 wd:Q64.\n",
    "                    ?individual rdfs:label ?label\n",
    "    }\n",
    "    \"\"\")\n",
    "\n",
    "for query_res in query_results:\n",
    "    print(query_res[0], query_res[1])"
   ]
  },
  {
   "cell_type": "code",
   "execution_count": 120,
   "metadata": {},
   "outputs": [
    {
     "name": "stdout",
     "output_type": "stream",
     "text": [
      "http://www.wikidata.org/entity/Q1629748 Kurt Badt\n",
      "http://www.wikidata.org/entity/Q18935222 Werner Cohn\n"
     ]
    }
   ],
   "source": [
    "# solution 2 - correct\n",
    "\n",
    "query_results = g.query(\n",
    "    \"\"\"PREFIX wd: <http://www.wikidata.org/entity/>\n",
    "    PREFIX wdt: <http://www.wikidata.org/prop/direct/>\n",
    "    PREFIX rdfs: <http://www.w3.org/2000/01/rdf-schema#>\n",
    "\n",
    "    SELECT DISTINCT ?historian ?label\n",
    "    WHERE { ?historian a wd:Q5;\n",
    "                       wdt:P19 wd:Q64;\n",
    "                       rdfs:label ?label.}\n",
    "    GROUP BY ?historian ?label\n",
    "    ORDER BY ?label\"\"\")\n",
    "\n",
    "\n",
    "for query_res in query_results:\n",
    "    print(query_res[0], query_res[1])"
   ]
  },
  {
   "cell_type": "code",
   "execution_count": null,
   "metadata": {},
   "outputs": [],
   "source": []
  },
  {
   "cell_type": "code",
   "execution_count": null,
   "metadata": {},
   "outputs": [],
   "source": []
  },
  {
   "cell_type": "markdown",
   "metadata": {},
   "source": [
    "### Wikidata historians from Germany"
   ]
  },
  {
   "cell_type": "code",
   "execution_count": null,
   "metadata": {},
   "outputs": [],
   "source": [
    "historians = \"the list of historians that are both in ARTchives and wikidata\"\n",
    "\n",
    "query2wd = \"\"\"SELECT DISTINCT ?historian \n",
    "WHERE {\n",
    "    VALUES ?historian {\"\"\" + historians + \"\"\"} . \n",
    "    ?historian wdt:P19 ?birthplace . \n",
    "    ?birthplace rdfs:label ?birthplace_label .\n",
    "    ?birthplace wdt:P17 wd:Q183 .\n",
    "    FILTER (langMatches(lang(?birthplace_label), \"\"EN\"\"))\n",
    "    } \"\"\"\n",
    "\n",
    "# Results\n",
    "\"\"\"\n",
    " wd:Q60185\tAby Warburg\n",
    " wd:Q88907\tErnst Kitzinger\n",
    " wd:Q3057287\tErnst Steinmann\n",
    " wd:Q41616785\tGustav Ludwig\n",
    " wd:Q1712683\tJulius S. Held\n",
    " wd:Q1629748\tKurt Badt\n",
    " wd:Q1641821\tOtto Lehmann-Brockhaus\n",
    " wd:Q90407\tRichard Krautheimer\n",
    " wd:Q1715096\tUlrich Middeldorf\n",
    " wd:Q1296486\tWolfgang Lotz\n",
    " wd:Q18935222\tWerner Cohn\n",
    "\"\"\""
   ]
  },
  {
   "cell_type": "markdown",
   "metadata": {},
   "source": [
    "I report here only incorrect solutions"
   ]
  },
  {
   "cell_type": "code",
   "execution_count": null,
   "metadata": {},
   "outputs": [],
   "source": [
    "# solution \n",
    "# missing DISTINCT in SELECT\n",
    "# missing language restriction on the list of historians\n",
    "\n",
    "\"\"\"PREFIX wd: <http://www.wikidata.org/entity/> \n",
    "PREFIX wdt: <http://www.wikidata.org/prop/direct/> \n",
    "SELECT ?person ?personlabel ?country ?countrylabel\n",
    "WHERE {?country  wdt:P17 wd:Q183 .\n",
    "       ?country rdfs:label ?countrylabel .\n",
    "       ?person wdt:P106 wd:Q1792450.\n",
    "      ?person wdt:P19 ?country.\n",
    "       ?person rdfs:label ?personlabel .\n",
    "       SERVICE wikibase:label { bd:serviceParam wikibase:language \"\"en\"\". }\n",
    "      }\"\"\"\n",
    "\n",
    "# ps: without a limit, the query returns an error when running it on https://query.wikidata.org/"
   ]
  },
  {
   "cell_type": "code",
   "execution_count": null,
   "metadata": {},
   "outputs": [],
   "source": []
  },
  {
   "cell_type": "code",
   "execution_count": null,
   "metadata": {},
   "outputs": [],
   "source": []
  }
 ],
 "metadata": {
  "kernelspec": {
   "display_name": "Python 3",
   "language": "python",
   "name": "python3"
  },
  "language_info": {
   "codemirror_mode": {
    "name": "ipython",
    "version": 3
   },
   "file_extension": ".py",
   "mimetype": "text/x-python",
   "name": "python",
   "nbconvert_exporter": "python",
   "pygments_lexer": "ipython3",
   "version": "3.8.0"
  }
 },
 "nbformat": 4,
 "nbformat_minor": 4
}
