{
 "cells": [
  {
   "cell_type": "code",
   "execution_count": null,
   "id": "8ddc3153",
   "metadata": {},
   "outputs": [],
   "source": [
    "import rdflib\n",
    "from rdflib import Namespace , Literal , URIRef\n",
    "from rdflib.namespace import RDF , RDFS\n",
    "\n",
    "# bind the uncommon namespaces\n",
    "wd = Namespace(\"http://www.wikidata.org/entity/\") # remember that a prefix matches a URI until the last slash (or hashtag #)\n",
    "wdt = Namespace(\"http://www.wikidata.org/prop/direct/\")\n",
    "art = Namespace(\"https://w3id.org/artchives/\")\n",
    "\n",
    "# create an empty Graph\n",
    "g = rdflib.ConjunctiveGraph()\n",
    "\n",
    "# parse a local RDF file by specifying the format\n",
    "result = g.parse(\"C:\\\\Users\\\\bordi\\\\OneDrive\\\\Desktop\\\\dhdk_epds\\\\resources\\\\artchives.nq\", format='nquads')"
   ]
  },
  {
   "cell_type": "code",
   "execution_count": null,
   "id": "e5333887",
   "metadata": {},
   "outputs": [],
   "source": [
    "colls_and_people = []\n",
    "\n",
    "# get all the collections\n",
    "for coll,isA,coll_class in g.triples(( None, RDF.type , wd.Q9388534)): \n",
    "    # create a list for each collection\n",
    "    coll_list = [] \n",
    "    # get all the periods for that collection\n",
    "    for this_coll, hasSubj, people in g.triples(( coll, art.hasSubjectPeople, None)): \n",
    "        # get the labels of the periods\n",
    "        for this_people, hasLabel, people_label in g.triples((people , RDFS.label, None )):\n",
    "            # get only the last label\n",
    "            people_label = str(people_label).strip() \n",
    "        # append periods to the related collection\n",
    "        coll_list.append(people_label)\n",
    "    # append collections to the initial list\n",
    "    colls_and_people.append(coll_list)\n",
    "    \n",
    "print(colls_and_people)"
   ]
  },
  {
   "cell_type": "code",
   "execution_count": null,
   "id": "c04503d2",
   "metadata": {},
   "outputs": [],
   "source": [
    "from mlxtend.preprocessing import TransactionEncoder\n",
    "from mlxtend.frequent_patterns import apriori\n",
    "import pandas as pd\n",
    "\n",
    "dataset = colls_and_people\n",
    "\n",
    "te = TransactionEncoder()\n",
    "te_ary = te.fit(dataset).transform(dataset)\n",
    "df = pd.DataFrame(te_ary, columns=te.columns_)\n",
    "\n",
    "frequent_itemsets = apriori(df, min_support=0.05, use_colnames=True)\n",
    "frequent_itemsets"
   ]
  },
  {
   "cell_type": "code",
   "execution_count": null,
   "id": "56d65bb6",
   "metadata": {},
   "outputs": [],
   "source": [
    "from mlxtend.frequent_patterns import association_rules\n",
    "association_rules(frequent_itemsets, metric=\"lift\", min_threshold=0.9)"
   ]
  },
  {
   "cell_type": "code",
   "execution_count": null,
   "id": "4fe87702",
   "metadata": {},
   "outputs": [],
   "source": []
  },
  {
   "cell_type": "code",
   "execution_count": null,
   "id": "0f76a428",
   "metadata": {},
   "outputs": [],
   "source": []
  }
 ],
 "metadata": {
  "kernelspec": {
   "display_name": "Python 3 (ipykernel)",
   "language": "python",
   "name": "python3"
  },
  "language_info": {
   "codemirror_mode": {
    "name": "ipython",
    "version": 3
   },
   "file_extension": ".py",
   "mimetype": "text/x-python",
   "name": "python",
   "nbconvert_exporter": "python",
   "pygments_lexer": "ipython3",
   "version": "3.7.9"
  }
 },
 "nbformat": 4,
 "nbformat_minor": 5
}
